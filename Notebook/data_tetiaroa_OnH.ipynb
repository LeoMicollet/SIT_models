{
 "cells": [
  {
   "cell_type": "markdown",
   "metadata": {},
   "source": [
    "# First glance on Onetahi"
   ]
  },
  {
   "cell_type": "code",
   "execution_count": null,
   "metadata": {},
   "outputs": [],
   "source": [
    "import matplotlib.pyplot as plt\n",
    "import numpy as np\n",
    "import pandas as pd\n",
    "import seaborn as sns"
   ]
  },
  {
   "cell_type": "code",
   "execution_count": null,
   "metadata": {},
   "outputs": [],
   "source": [
    "# Load the Excel file\n",
    "file_path = '/home/leo/Documents/These/Données/Rearangement_OB2.xlsx'  # Replace with the path to your file\n",
    "df = pd.read_excel(file_path)"
   ]
  },
  {
   "cell_type": "markdown",
   "metadata": {},
   "source": [
    "## Cleanup and visualization"
   ]
  },
  {
   "cell_type": "markdown",
   "metadata": {},
   "source": [
    "The focus is on the two aedes species present on the island"
   ]
  },
  {
   "cell_type": "code",
   "execution_count": null,
   "metadata": {},
   "outputs": [],
   "source": [
    "# Filter rows where 'species' column is equal to 'ae_poly'\n",
    "Poly_df = df[(df['Spc'] == 'ae_poly') & (df['Motu'] == 'Onetahi')]\n",
    "#Aegipty_df = df[(df['Spc'] == 'ae_aeg') & (df['Motu'] == 'Onetahi')]"
   ]
  },
  {
   "cell_type": "markdown",
   "metadata": {},
   "source": [
    "There's a first cleanup to do on the dates values. We'll convert them to datetime objects and check for missing values."
   ]
  },
  {
   "cell_type": "code",
   "execution_count": null,
   "metadata": {},
   "outputs": [],
   "source": [
    "Poly_df.loc[-82:, 'Date'].values"
   ]
  },
  {
   "cell_type": "code",
   "execution_count": null,
   "metadata": {},
   "outputs": [],
   "source": [
    "Poly_df['Date'][-82:].values"
   ]
  },
  {
   "cell_type": "code",
   "execution_count": null,
   "metadata": {},
   "outputs": [],
   "source": [
    "# Ensure 'Date' column is in datetime format\n",
    "Poly_df['Date'][:-82] = pd.to_datetime(Poly_df['Date'][:-82])\n",
    "#Aegipty_df.loc[:-80, 'Date'] = pd.to_datetime(Aegipty_df.loc[:-80, 'Date'])\n",
    "\n",
    "# Convert month names to month numbers\n",
    "month_map = {\n",
    "    'January': 1, 'February': 2, 'March': 3, 'April': 4,\n",
    "    'May': 5, 'June': 6, 'July': 7, 'August': 8,\n",
    "    'September': 9, 'October': 10, 'November': 11, 'December': 12\n",
    "}\n",
    "\n",
    "date_poly = pd.DataFrame({\n",
    "    'Day': Poly_df['Date'][-82:].values,\n",
    "    'Month': Poly_df['Month'][-82:].map(month_map).values,\n",
    "    'Year': [2024] * 82\n",
    "})\n",
    "#date_aeg = pd.DataFrame({\n",
    "#    'Day': Aegipty_df['Date'][-80:].values,\n",
    "#    'Month': Aegipty_df['Month'][-80:].map(month_map).values,\n",
    "#    'Year': [2023] * 80\n",
    "#})\n",
    "#date_aeg[['Year', 'Month', 'Day']]\n",
    "\n",
    "Poly_df['Date'][-82:] = pd.to_datetime(date_poly[['Year', 'Month', 'Day']])\n",
    "#Aegipty_df['Date'][-80:] = pd.to_datetime(date_aeg[['Year', 'Month', 'Day']])"
   ]
  },
  {
   "cell_type": "markdown",
   "metadata": {},
   "source": [
    "We now have to handle the Nan values. They are for now removed from the file (most of them are from Covid I think)."
   ]
  },
  {
   "cell_type": "code",
   "execution_count": null,
   "metadata": {},
   "outputs": [],
   "source": [
    "# Split the dataset based on the 'action' column\n",
    "df_poly_r = Poly_df[Poly_df['Action'] == 'Release'].copy()  # Rows where 'action' is 'Release'\n",
    "df_poly_c = Poly_df[Poly_df['Action'] == 'Capture'].copy()  # Rows where 'action' is 'Capture'\n",
    "#df_aegipty_c = Aegipty_df[Aegipty_df['Action'] == 'Capture'].copy()  # Rows where 'action' is 'Capture'\n",
    "\n",
    "# Clean 'Nb_ind' column by replacing 'NA ' or NaN values with np.nan and dropping them\n",
    "df_poly_r = df_poly_r.dropna(subset=['Nb_ind'])\n",
    "df_poly_c['Nb_ind'] = df_poly_c['Nb_ind'].replace('NA ', np.nan)\n",
    "df_poly_c = df_poly_c.dropna(subset=['Nb_ind'])\n",
    "df_poly_c = df_poly_c.dropna(subset=['Date'])\n",
    "\n",
    "#df_aegipty_c['Nb_ind'] = df_aegipty_c['Nb_ind'].replace('NA ', np.nan)\n",
    "#df_aegipty_c = df_aegipty_c.dropna(subset=['Nb_ind'])\n",
    "#df_aegipty_c = df_aegipty_c.dropna(subset=['Date'])\n",
    "\n",
    "# Display the DataFrames\n",
    "print(df_poly_r.head())\n",
    "print(df_poly_c.head())\n",
    "#print(df_aegipty_c.head())"
   ]
  },
  {
   "cell_type": "code",
   "execution_count": null,
   "metadata": {},
   "outputs": [],
   "source": [
    "# Optionally, save the filtered data to a new csv file\n",
    "#df_poly_r.to_csv('../Data/df_poly_release.csv', index=False)\n",
    "#df_poly_c.to_csv('../Data/df_poly_capture.csv', index=False)\n",
    "#df_aegipty_c.to_csv('../Data/df_aegipty_cature.csv', index=False)"
   ]
  },
  {
   "cell_type": "markdown",
   "metadata": {},
   "source": [
    "More info on the number of captured and released mosquitoes"
   ]
  },
  {
   "cell_type": "code",
   "execution_count": null,
   "metadata": {},
   "outputs": [],
   "source": [
    "# Get the numbre of mosquitoes released and captured \n",
    "nb_poly_mosquitoes_released = df_poly_r['Nb_ind'].sum()\n",
    "nb_poly_mosquitoes_captured = df_poly_c['Nb_ind'].sum()\n",
    "#nb_aegipty_mosquitoes_captured = df_aegipty_c['Nb_ind'].sum()\n",
    "\n",
    "#print(f\"Number of Ae. aegypti mosquitoes captured: {nb_aegipty_mosquitoes_captured}\")\n",
    "print(f\"Number of Ae. polynesiensis mosquitoes captured: {nb_poly_mosquitoes_captured}\")\n",
    "print(f\"Number of Ae. polynesiensis mosquitoes released: {nb_poly_mosquitoes_released}\")"
   ]
  },
  {
   "cell_type": "code",
   "execution_count": null,
   "metadata": {},
   "outputs": [],
   "source": [
    "# Add a new variable in the df_poly_* : phase ! The phase 0 is the dates before the release of the mosquitoes (2018-10-17). The second is between this date and 2019-11-13. The 3rd is between 2019-11-13 and 2021-08-03. The 4th is from 2022-09-23. The last from 2022-10-09 to the end \n",
    "df_poly_r['Phase'] = 'Capture'\n",
    "df_poly_c['Phase'] = 'Capture'\n",
    "\n",
    "# Convert string dates to datetime objects\n",
    "release_dates = [\n",
    "\tpd.to_datetime('2018-10-16'),\n",
    "\tpd.to_datetime('2019-11-13'),\n",
    "\tpd.to_datetime('2021-08-04'),\n",
    "\tpd.to_datetime('2022-09-22'),\n",
    "\tpd.to_datetime('2022-10-08')\n",
    "]\n",
    "\n",
    "df_poly_r['Phase'] = np.where(df_poly_r['Date'] > release_dates[0], 'Capture + Release', 'Capture')\n",
    "df_poly_c['Phase'] = np.where(df_poly_c['Date'] > release_dates[0], 'Capture + Release', 'Capture')\n",
    "\n",
    "df_poly_r['Phase'] = np.where(df_poly_r['Date'] > release_dates[1], 'Capture', df_poly_r['Phase'])\n",
    "df_poly_c['Phase'] = np.where(df_poly_c['Date'] > release_dates[1], 'Capture', df_poly_c['Phase'])\n",
    "\n",
    "df_poly_r['Phase'] = np.where(df_poly_r['Date'] > release_dates[2], 'Covid', df_poly_r['Phase'])\n",
    "df_poly_c['Phase'] = np.where(df_poly_c['Date'] > release_dates[2], 'Covid', df_poly_c['Phase'])\n",
    "\n",
    "df_poly_r['Phase'] = np.where(df_poly_r['Date'] > release_dates[3], 'Capture', df_poly_r['Phase'])\n",
    "df_poly_c['Phase'] = np.where(df_poly_c['Date'] > release_dates[3], 'Capture', df_poly_c['Phase'])\n",
    "\n",
    "df_poly_r['Phase'] = np.where(df_poly_r['Date'] > release_dates[4], 'Capture + Release', df_poly_r['Phase'])\n",
    "df_poly_c['Phase'] = np.where(df_poly_c['Date'] > release_dates[4], 'Capture + Release', df_poly_c['Phase'])\n",
    "\n",
    "# Plot the number of mosquitoes captured by phase\n",
    "fig, ax = plt.subplots()\n",
    "sns.barplot(x='Phase', y='Nb_ind', data=df_poly_c, ax=ax)\n",
    "ax.set_title('Number of Ae. polynesiensis mosquitoes captured by phase')\n",
    "plt.show()"
   ]
  },
  {
   "cell_type": "code",
   "execution_count": null,
   "metadata": {},
   "outputs": [],
   "source": [
    "df_poly_c['Event'] = 'Capture'\n",
    "df_poly_c['Event'] = np.where(df_poly_c['Phase'] == '1', 'Capture + Release', df_poly_c['Event'])\n",
    "df_poly_c['Event'] = np.where(df_poly_c['Phase'] == '4', 'Capture + Release', df_poly_c['Event'])\n"
   ]
  },
  {
   "cell_type": "code",
   "execution_count": null,
   "metadata": {},
   "outputs": [],
   "source": [
    "# Do a matrix, with lines corresponding to Trap_Num and column to the Phase. The values in the matrix are the number of mosquitoes captured in each trap during each phase divided by the number of capture by this trap on the given phase.\n",
    "# The matrix will be a 2D numpy array\n",
    "trap_num = df_poly_c['Trap_num'].unique()\n",
    "phase = df_poly_c['Phase'].unique()\n",
    "matrix = np.zeros((len(trap_num), len(phase)))\n",
    "for i, trap in enumerate(trap_num):\n",
    "    for j, ph in enumerate(phase):\n",
    "        matrix[i, j] = df_poly_c[(df_poly_c['Trap_num'] == trap) & (df_poly_c['Phase'] == ph)]['Nb_ind'].sum()\n",
    "\n",
    "# Create a heatmap\n",
    "plt.figure(figsize=(12, 8))\n",
    "sns.heatmap(matrix, annot=True, fmt='.0f', cmap='viridis', xticklabels=phase, yticklabels=trap_num)\n",
    "plt.xlabel('Phase')\n",
    "plt.ylabel('Trap number')\n",
    "plt.title('Number of mosquitoes captured in each trap during each phase')\n",
    "plt.show()\n"
   ]
  },
  {
   "cell_type": "markdown",
   "metadata": {},
   "source": [
    "plots are great to have a better understanding. We can clearly see the impact of covid, and the change in the trap type after covid."
   ]
  },
  {
   "cell_type": "code",
   "execution_count": null,
   "metadata": {},
   "outputs": [],
   "source": [
    "# A little dataset which sums the captured mosqitoes by date, but doesn't sum the other variable and keeps the value of Event\n",
    "tiny_df = df_poly_c.groupby(['Date', 'Phase', 'Event', 'Sex']).sum().reset_index()\n",
    "\n",
    "#get only the release data summed by date and phase\n",
    "tiny_rel_df = df_poly_r.groupby(['Date', 'Phase']).sum().reset_index()"
   ]
  },
  {
   "cell_type": "code",
   "execution_count": null,
   "metadata": {},
   "outputs": [],
   "source": [
    "# Make a seaborn histogram the data for Release events \n",
    "plt.figure(figsize=(10, 6))\n",
    "sns.scatterplot(data=df_poly_r, x='Date', y='Nb_ind', s=50)\n",
    "plt.title('Number of Individuals by Date (Release)')\n",
    "plt.xlabel('Date')\n",
    "plt.xlim(pd.to_datetime('2014-01-01'), pd.to_datetime('2025-01-01'))\n",
    "plt.ylabel('Number of Individuals')\n",
    "plt.xticks(rotation=45)\n",
    "plt.tight_layout()\n",
    "#plt.savefig('../img/release_plot.png')\n",
    "plt.show()\n",
    "\n",
    "# Plot a double plot for the data for Capture events of poly depending on Phase. Use a different color for each phase\n",
    "\n",
    "plt.figure(figsize=(10, 6))\n",
    "sns.scatterplot(\n",
    "    data=df_poly_c, x='Date', y='Nb_ind', hue='Sex', s=50,\n",
    "    palette={'F': 'green', 'M': 'red'}\n",
    ")\n",
    "plt.title('Number of Individuals by Date (Capture)')\n",
    "plt.xlabel('Date')\n",
    "plt.xlim(pd.to_datetime('2014-01-01'), pd.to_datetime('2025-01-01'))\n",
    "plt.ylabel('Number of Individuals')\n",
    "plt.xticks(rotation=45)\n",
    "plt.tight_layout()\n",
    "#plt.savefig('../img/capture_plot_poly.png')\n",
    "plt.show()\n",
    "\n",
    "# Plot the data for Capture events (only females)\n",
    "plt.figure(figsize=(10, 6))\n",
    "sns.scatterplot(data=tiny_df, x='Date', y='Nb_ind', hue='Sex', s=50)\n",
    "plt.title('Number of Individuals by Date (Capture)')\n",
    "plt.xlabel('Date')\n",
    "plt.xlim(pd.to_datetime('2014-01-01'), pd.to_datetime('2025-01-01'))\n",
    "plt.ylabel('Number of Individuals')\n",
    "plt.xticks(rotation=45)\n",
    "plt.tight_layout()\n",
    "plt.savefig('../img/capture_plot_event.png')\n",
    "plt.show()\n",
    "\n",
    "# Save each plot to a file\n"
   ]
  },
  {
   "cell_type": "markdown",
   "metadata": {},
   "source": [
    "## Let's create graphs !"
   ]
  },
  {
   "cell_type": "markdown",
   "metadata": {},
   "source": [
    "With captured males and females, and release on another. The backgroung color will be ligth red when release phase"
   ]
  },
  {
   "cell_type": "code",
   "execution_count": null,
   "metadata": {},
   "outputs": [],
   "source": [
    "starting_date = pd.to_datetime('2017-01-01')\n",
    "starting_interv1 = pd.to_datetime('2018-10-17')\n",
    "ending_interv1 = pd.to_datetime('2019-11-13')\n",
    "starting_interv2 = pd.to_datetime('2022-10-09')"
   ]
  },
  {
   "cell_type": "code",
   "execution_count": null,
   "metadata": {},
   "outputs": [],
   "source": [
    "tiny = tiny_df[tiny_df['Date'] >= starting_date]\n",
    "tinyrel = tiny_rel_df[tiny_rel_df['Date'] >= starting_date]\n",
    "sexes = tiny['Sex'].unique()\n",
    "bar_width = 5  # days width for each bar\n",
    "\n",
    "fig, axs = plt.subplots(2, 1, figsize=(15, 9), sharex=True)\n",
    "\n",
    "# Plot 1: Captures by sex\n",
    "for idx, sex in enumerate(sexes):\n",
    "    dates = tiny[tiny['Sex'] == sex]['Date'] + pd.Timedelta(days=idx * bar_width)\n",
    "    axs[0].bar(\n",
    "        dates,\n",
    "        tiny[tiny['Sex'] == sex]['Nb_ind'],\n",
    "        width=bar_width,\n",
    "        label=sex,\n",
    "        alpha=0.7\n",
    "    )\n",
    "axs[0].axvspan(starting_interv1, ending_interv1, color='red', alpha=0.15)\n",
    "axs[0].axvspan(starting_interv2, pd.to_datetime('2025-01-01'), color='red', alpha=0.15)\n",
    "axs[0].set_title('Number of Mosquitoes Captured by Date by Sex')\n",
    "axs[0].set_xlabel('Date')\n",
    "axs[0].set_xlim(pd.to_datetime('2017-10-03'), pd.to_datetime('2024-11-19'))\n",
    "axs[0].set_ylabel('Number of Individuals')\n",
    "axs[0].tick_params(axis='x', rotation=45)\n",
    "axs[0].legend(title='Sex')\n",
    "\n",
    "# Plot 2: Releases\n",
    "axs[1].bar(\n",
    "    tinyrel['Date'],\n",
    "    tinyrel['Nb_ind'],\n",
    "    width=bar_width,\n",
    "    color='blue',\n",
    "    alpha=0.7,\n",
    "    label='Released'\n",
    ")\n",
    "axs[1].axvspan(starting_interv1, ending_interv1, color='red', alpha=0.15)\n",
    "axs[1].axvspan(starting_interv2, pd.to_datetime('2024-11-19'), color='red', alpha=0.15)\n",
    "axs[1].set_title('Number of Released Incompatible Males by Date')\n",
    "axs[1].set_xlabel('Date')\n",
    "axs[1].set_xlim(pd.to_datetime('2017-10-03'), pd.to_datetime('2024-11-19'))\n",
    "axs[1].set_ylabel('Number of Individuals')\n",
    "axs[1].tick_params(axis='x', rotation=45)\n",
    "axs[1].legend()\n",
    "\n",
    "plt.tight_layout()\n",
    "plt.savefig('../img/capture_release_subplot.png')\n",
    "plt.show()"
   ]
  },
  {
   "cell_type": "markdown",
   "metadata": {},
   "source": [
    "## Que peut-on faire avec le nombre de mâles relachés ?"
   ]
  },
  {
   "cell_type": "markdown",
   "metadata": {},
   "source": [
    "En prenant le nombre de males relachés (pour la phase 1 et 4) : \n",
    " - On peut faire la probabilité de capture en prenant en compte que la taille de pop est environ celle de la pop relachées, en prenant la semaine actuelle ou la semaine suivante;\n",
    " - Regarder le nombre de capture à la semaine $n-1$ pour prédire le nombre de lâchers à la semaine $n$;\n",
    " - Regarder tout ça par piège ?"
   ]
  },
  {
   "cell_type": "code",
   "execution_count": null,
   "metadata": {},
   "outputs": [],
   "source": [
    "# Get the number of different values for the variable Trap_num for Trap_type = 'BGPro' et 'BGSv1'\n",
    "print(df_poly_c[df_poly_c['Trap_type'] == 'BGSv1']['Trap_num'].nunique())\n",
    "print(df_poly_c[df_poly_c['Trap_type'] == 'BGPro']['Trap_num'].nunique())\n",
    "print(df_poly_r[df_poly_r['Trap_type'] == 'BGSv1']['Trap_num'].nunique())\n",
    "print(df_poly_r[df_poly_r['Trap_type'] == 'BGPro']['Trap_num'].nunique())\n",
    "\n",
    "# Plot or print the values depending\n",
    "df_poly_c.groupby(['Trap_num', 'Phase'])['Nb_ind'].sum().unstack().plot(kind='bar', stacked=True)\n",
    "plt.title('Number of Ae. polynesiensis mosquitoes captured by trap number and phase')\n",
    "plt.show()"
   ]
  },
  {
   "cell_type": "code",
   "execution_count": null,
   "metadata": {},
   "outputs": [],
   "source": [
    "# Create a weekly dataset, which only contains the df_r Date, Sex, Nb_ind, Trap_type, Trap_num, Phase\n",
    "df_r_weekly = df_poly_r[['Date', 'Nb_ind', 'Phase']]\n",
    "df_r_weekly.head()"
   ]
  },
  {
   "cell_type": "code",
   "execution_count": null,
   "metadata": {},
   "outputs": [],
   "source": [
    "# Create a new dataset cntaining the values for phase 1 and 4 in df_c\n",
    "df_poly_c = df_poly_c[['Date', 'Sex', 'Nb_ind', 'Trap_type', 'Trap_num', 'Phase']]\n",
    "df_poly_c.head()\n",
    "\n",
    "#return the different values for Pphase in a list\n",
    "print(df_poly_c['Phase'].unique())"
   ]
  },
  {
   "cell_type": "code",
   "execution_count": null,
   "metadata": {},
   "outputs": [],
   "source": [
    "# Create a new data set containing the values for phase 1 and 4 in df_c, whith only male mosqitoes and the sum of all the mosquitoes captured by day for all the traps\n",
    "df_poly_c_m = df_poly_c[((df_poly_c['Phase'] == '1') | (df_poly_c['Phase'] == '4') ) & (df_poly_c['Sex'] == 'M')]\n",
    "df_poly_c_m = df_poly_c_m.groupby('Date').sum()\n",
    "# Remove Sex, trap_type, trap_num columns\n",
    "df_poly_c_m = df_poly_c_m.drop(columns=['Sex', 'Trap_type', 'Trap_num'])\n",
    "\n",
    "# Create a new data set containing the values for phase 1 and 4 in df_c, whith only male mosqitoes and the sum of all the mosquitoes captured by day\n",
    "df_poly_c_f = df_poly_c[((df_poly_c['Phase'] == '1') | (df_poly_c['Phase'] == '4') ) & (df_poly_c['Sex'] == 'F')]\n",
    "df_poly_c_f = df_poly_c_f.groupby('Date').sum()\n",
    "# Remove Sex, trap_type, trap_num columns\n",
    "df_poly_c_f = df_poly_c_f.drop(columns=['Sex', 'Trap_type', 'Trap_num'])"
   ]
  },
  {
   "cell_type": "code",
   "execution_count": null,
   "metadata": {},
   "outputs": [],
   "source": [
    "# in the df_r_weekly dataset, add the values of Nb_ind from df_c_m when the date is the same\n",
    "df_r_weekly['Captured_M'] = 0\n",
    "for i in range(len(df_r_weekly)):\n",
    "    date = df_r_weekly['Date'].iloc[i]\n",
    "    df_r_weekly['Captured_M'].iloc[i] = df_poly_c_m[df_poly_c_m.index == date]['Nb_ind'].sum()\n",
    "df_r_weekly.head()\n",
    "\n",
    "df_r_weekly['Captured_F'] = 0\n",
    "for i in range(len(df_r_weekly)):\n",
    "    date = df_r_weekly['Date'].iloc[i]\n",
    "    df_r_weekly['Captured_F'].iloc[i] = df_poly_c_f[df_poly_c_m.index == date]['Nb_ind'].sum()\n",
    "df_r_weekly.head()\n"
   ]
  },
  {
   "cell_type": "code",
   "execution_count": null,
   "metadata": {},
   "outputs": [],
   "source": [
    "# Create a new variable, which is the value of Captured_week divided by Nb_ind in df_r_weekly\n",
    "df_r_weekly.loc[:, 'Ratio_capture'] = df_r_weekly['Captured_M'] / df_r_weekly['Nb_ind']\n",
    "\n",
    "# Display the DataFrame\n",
    "df_r_weekly.head()"
   ]
  },
  {
   "cell_type": "code",
   "execution_count": null,
   "metadata": {},
   "outputs": [],
   "source": [
    "# Plot the values of the ratio for each phase\n",
    "df_r_weekly.groupby('Phase')['Ratio_capture'].mean().plot(kind='bar')\n",
    "plt.title('Mean ratio of captured mosquitoes by phase')\n",
    "plt.show()\n",
    "\n",
    "# Plot the values of the ratio for each phase daily\n",
    "df_r_weekly.groupby('Date')['Ratio_capture'].mean().plot()\n",
    "plt.title('Mean ratio of captured mosquitoes by date')\n",
    "plt.show()"
   ]
  },
  {
   "cell_type": "code",
   "execution_count": null,
   "metadata": {},
   "outputs": [],
   "source": [
    "# The probability of capture can be approximated by the ratio of the number of mosquitoes captured to the number of mosquitoes released in the previous week\n",
    "\n",
    "df_r_weekly['P_capture'] = 0\n",
    "\n",
    "for i in range(0, len(df_r_weekly)):\n",
    "    if i + 1 < len(df_r_weekly) and df_r_weekly['Nb_ind'].iloc[i] != 0:\n",
    "        df_r_weekly['P_capture'].iloc[i] = df_r_weekly['Captured_M'].iloc[i+1] / df_r_weekly['Nb_ind'].iloc[i]\n",
    "\n",
    "df_r_weekly.head()"
   ]
  },
  {
   "cell_type": "code",
   "execution_count": null,
   "metadata": {},
   "outputs": [],
   "source": [
    "# Plot the values of the proba for each phase\n",
    "df_r_weekly.groupby('Phase')['P_capture'].mean().plot(kind='bar')\n",
    "plt.title('Mean ratio of captured mosquitoes by phase')\n",
    "plt.show()\n",
    "\n",
    "# Plot the values of the proba for each phase daily\n",
    "df_r_weekly.groupby('Date')['P_capture'].mean().plot()\n",
    "plt.title('Mean ratio of captured mosquitoes by date')\n",
    "plt.show()"
   ]
  },
  {
   "cell_type": "code",
   "execution_count": null,
   "metadata": {},
   "outputs": [],
   "source": [
    "# Create a new var, which is the value of Nb_ind divided by the value of Captured_week from the previous week in df_r_weekly. For the first week of the dataset, set the value to 0\n",
    "df_r_weekly['Ratio_release'] = 0\n",
    "\n",
    "for i in range(1, len(df_r_weekly)):\n",
    "    if df_r_weekly['Captured_M'].iloc[i - 1] != 0:\n",
    "        df_r_weekly['Ratio_release'].iloc[i] = df_r_weekly['Nb_ind'].iloc[i] / df_r_weekly['Captured_M'].iloc[i - 1]\n",
    "df_r_weekly.head()\n"
   ]
  },
  {
   "cell_type": "code",
   "execution_count": null,
   "metadata": {},
   "outputs": [],
   "source": [
    "# Plot the values of the ratio for each phase\n",
    "df_r_weekly.groupby('Phase')['Ratio_release'].mean().plot(kind='bar')\n",
    "plt.title('Mean ratio of released mosquitoes by phase')\n",
    "plt.show()\n",
    "\n",
    "# Plot the values of the ratio for each phase daily\n",
    "df_r_weekly.groupby('Date')['Ratio_release'].mean().plot()\n",
    "plt.title('Mean ratio of released mosquitoes by date')\n",
    "plt.show()"
   ]
  },
  {
   "cell_type": "code",
   "execution_count": null,
   "metadata": {},
   "outputs": [],
   "source": [
    "# The probability of capture can be approximated by the ratio of the number of mosquitoes captured to the number of mosquitoes released in the previous week\n",
    "\n",
    "df_r_weekly['P_capture2'] = 0\n",
    "\n",
    "for i in range(0, len(df_r_weekly)):\n",
    "    if i + 2 < len(df_r_weekly) and df_r_weekly['Nb_ind'].iloc[i] + df_r_weekly['Nb_ind'].iloc[i+1]  != 0:\n",
    "        df_r_weekly['P_capture2'].iloc[i] = (df_r_weekly['Captured_M'].iloc[i+1] + df_r_weekly['Captured_M'].iloc[i+ 2] ) / (df_r_weekly['Nb_ind'].iloc[i] + df_r_weekly['Nb_ind'].iloc[i+1])\n",
    "\n",
    "df_r_weekly.head()"
   ]
  },
  {
   "cell_type": "code",
   "execution_count": null,
   "metadata": {},
   "outputs": [],
   "source": [
    "# Plot the values of the proba for each phase\n",
    "df_r_weekly.groupby('Phase')['P_capture2'].mean().plot(kind='bar')\n",
    "plt.title('Mean ratio of captured mosquitoes by phase')\n",
    "plt.show()\n",
    "\n",
    "# Plot the values of the proba for each phase daily\n",
    "df_r_weekly.groupby('Date')['P_capture2'].mean().plot()\n",
    "plt.title('Mean ratio of captured mosquitoes by date')\n",
    "plt.show()"
   ]
  },
  {
   "cell_type": "markdown",
   "metadata": {},
   "source": [
    "# Honuea motu"
   ]
  },
  {
   "cell_type": "markdown",
   "metadata": {},
   "source": [
    "The releases are done in two different places The previous analysis can be done here too for the Honuea motu"
   ]
  },
  {
   "cell_type": "code",
   "execution_count": null,
   "metadata": {},
   "outputs": [],
   "source": [
    "# Filter rows where 'species' column is equal to 'ae_poly'\n",
    "Poly_df_honuea = df[(df['Spc'] == 'ae_poly') & (df['Motu'] == 'Honuea')]\n",
    "#Aegipty_df = df[(df['Spc'] == 'ae_aeg') & (df['Motu'] == 'Onetahi')]"
   ]
  },
  {
   "cell_type": "code",
   "execution_count": null,
   "metadata": {},
   "outputs": [],
   "source": [
    "Poly_df_honuea['Date'][-22:].values"
   ]
  },
  {
   "cell_type": "code",
   "execution_count": null,
   "metadata": {},
   "outputs": [],
   "source": [
    "# Ensure 'Date' column is in datetime format\n",
    "Poly_df_honuea['Date'][:-22] = pd.to_datetime(Poly_df_honuea['Date'][:-22])\n",
    "#Aegipty_df.loc[:-80, 'Date'] = pd.to_datetime(Aegipty_df.loc[:-80, 'Date'])\n",
    "\n",
    "date_poly_honuea = pd.DataFrame({\n",
    "    'Day': Poly_df_honuea['Date'][-22:].values,\n",
    "    'Month': Poly_df_honuea['Date'][-22:].map(month_map).values,\n",
    "    'Year': [2024] * 22\n",
    "})\n",
    "#date_aeg = pd.DataFrame({\n",
    "#    'Day': Aegipty_df['Date'][-80:].values,\n",
    "#    'Month': Aegipty_df['Month'][-80:].map(month_map).values,\n",
    "#    'Year': [2023] * 80\n",
    "#})\n",
    "#date_aeg[['Year', 'Month', 'Day']]\n",
    "\n",
    "Poly_df_honuea['Date'][-22:] = pd.to_datetime(date_poly_honuea[['Year', 'Month', 'Day']])\n",
    "#Aegipty_df['Date'][-80:] = pd.to_datetime(date_aeg[['Year', 'Month', 'Day']])"
   ]
  },
  {
   "cell_type": "code",
   "execution_count": null,
   "metadata": {},
   "outputs": [],
   "source": [
    "# Split the dataset based on the 'action' column\n",
    "df_poly_honuea_r = Poly_df_honuea[Poly_df_honuea['Action'] == 'Release'].copy()  # Rows where 'action' is 'Release'\n",
    "df_poly_honuea_c = Poly_df_honuea[Poly_df_honuea['Action'] == 'Capture'].copy()  # Rows where 'action' is 'Capture'\n",
    "#df_aegipty_c = Aegipty_df[Aegipty_df['Action'] == 'Capture'].copy()  # Rows where 'action' is 'Capture'\n",
    "\n",
    "# Clean 'Nb_ind' column by replacing 'NA ' or NaN values with np.nan and dropping them\n",
    "df_poly_honuea_r = df_poly_honuea_r.dropna(subset=['Nb_ind'])\n",
    "df_poly_honuea_c['Nb_ind'] = df_poly_honuea_c['Nb_ind'].replace('NA ', np.nan)\n",
    "df_poly_honuea_c = df_poly_honuea_c.dropna(subset=['Nb_ind'])\n",
    "df_poly_honuea_c = df_poly_honuea_c.dropna(subset=['Date'])\n",
    "\n",
    "#df_aegipty_c['Nb_ind'] = df_aegipty_c['Nb_ind'].replace('NA ', np.nan)\n",
    "#df_aegipty_c = df_aegipty_c.dropna(subset=['Nb_ind'])\n",
    "#df_aegipty_c = df_aegipty_c.dropna(subset=['Date'])\n",
    "\n",
    "# Display the DataFrames\n",
    "print(df_poly_honuea_r.head())\n",
    "print(df_poly_honuea_c.head())\n",
    "#print(df_aegipty_c.head())"
   ]
  },
  {
   "cell_type": "code",
   "execution_count": null,
   "metadata": {},
   "outputs": [],
   "source": [
    "# Add a new variable in the df_poly_* : phase ! The phase 0 is the dates before the release of the mosquitoes (2018-10-17). The second is between this date and 2019-11-13. The 3rd is between 2019-11-13 and 2021-08-03. The 4th is from 2022-09-23. The last from 2022-10-09 to the end \n",
    "df_poly_honuea_r['Phase'] = 'Capture'\n",
    "df_poly_honuea_c['Phase'] = 'Capture'\n",
    "\n",
    "# Convert string dates to datetime objects\n",
    "release_dates = [\n",
    "\tpd.to_datetime('2019-11-20'),\n",
    "\tpd.to_datetime('2020-03-18'),\n",
    "\tpd.to_datetime('2023-01-16'),\n",
    "]\n",
    "\n",
    "df_poly_honuea_r['Phase'] = np.where(df_poly_honuea_r['Date'] > release_dates[0], 'Capture + Release', df_poly_honuea_r['Phase'])\n",
    "df_poly_honuea_c['Phase'] = np.where(df_poly_honuea_c['Date'] > release_dates[0], 'Capture + Release', df_poly_honuea_c['Phase'])\n",
    "\n",
    "df_poly_honuea_r['Phase'] = np.where(df_poly_honuea_r['Date'] > release_dates[1], 'Capture', df_poly_honuea_r['Phase'])\n",
    "df_poly_honuea_c['Phase'] = np.where(df_poly_honuea_c['Date'] > release_dates[1], 'Capture', df_poly_honuea_c['Phase'])\n",
    "\n",
    "df_poly_honuea_r['Phase'] = np.where(df_poly_honuea_r['Date'] > release_dates[2], 'Capture + Release', df_poly_honuea_r['Phase'])\n",
    "df_poly_honuea_c['Phase'] = np.where(df_poly_honuea_c['Date'] > release_dates[2], 'Capture + Release', df_poly_honuea_c['Phase'])\n",
    "\n",
    "# Plot the number of mosquitoes captured by phase\n",
    "fig, ax = plt.subplots()\n",
    "sns.barplot(x='Phase', y='Nb_ind', data=df_poly_honuea_c, ax=ax)\n",
    "ax.set_title('Number of Ae. polynesiensis mosquitoes captured by phase')\n",
    "plt.show()"
   ]
  },
  {
   "cell_type": "code",
   "execution_count": null,
   "metadata": {},
   "outputs": [],
   "source": [
    "# A little dataset which sums the captured mosqitoes by date, but doesn't sum the other variable and keeps the value of Event\n",
    "tiny_df_honuea = df_poly_honuea_c.groupby(['Date', 'Phase']).sum().reset_index()"
   ]
  },
  {
   "cell_type": "code",
   "execution_count": null,
   "metadata": {},
   "outputs": [],
   "source": [
    "# Make a seaborn histogram the data for Release events \n",
    "plt.figure(figsize=(10, 6))\n",
    "sns.scatterplot(data=df_poly_honuea_r, x='Date', y='Nb_ind', s=50)\n",
    "plt.title('Number of Individuals by Date (Release)')\n",
    "plt.xlabel('Date')\n",
    "plt.xlim(pd.to_datetime('2014-01-01'), pd.to_datetime('2025-01-01'))\n",
    "plt.ylabel('Number of Individuals')\n",
    "plt.grid(True)\n",
    "plt.xticks(rotation=45)\n",
    "plt.tight_layout()\n",
    "#plt.savefig('../img/release_plot.png')\n",
    "plt.show()\n",
    "\n",
    "# Plot a double plot for the data for Capture events of poly depending on Phase. Use a different color for each phase\n",
    "\n",
    "plt.figure(figsize=(10, 6))\n",
    "sns.scatterplot(data=df_poly_honuea_c, x='Date', y='Nb_ind', hue='Sex', s=50,\n",
    "                palette={'F': 'green', 'M': 'red'})\n",
    "plt.title('Number of Individuals by Date (Capture)')\n",
    "plt.xlabel('Date')\n",
    "plt.xlim(pd.to_datetime('2014-01-01'), pd.to_datetime('2025-01-01'))\n",
    "plt.ylabel('Number of Individuals')\n",
    "plt.grid(True)\n",
    "plt.xticks(rotation=45)\n",
    "plt.tight_layout()\n",
    "#plt.savefig('../img/capture_plot_poly.png')\n",
    "plt.show()\n",
    "\n",
    "# Plot the data for Capture events\n",
    "plt.figure(figsize=(10, 6))\n",
    "sns.scatterplot(data=tiny_df_honuea, x='Date', y='Nb_ind', hue='Phase', s=50)\n",
    "plt.title('Number of Individuals by Date (Capture)')\n",
    "plt.xlabel('Date')\n",
    "plt.xlim(pd.to_datetime('2014-01-01'), pd.to_datetime('2025-01-01'))\n",
    "plt.ylabel('Number of Individuals')\n",
    "plt.grid(True)\n",
    "plt.xticks(rotation=45)\n",
    "plt.tight_layout()\n",
    "plt.savefig('../img/capture_plot_event.png')\n",
    "plt.show()\n",
    "\n",
    "# Save each plot to a file\n"
   ]
  },
  {
   "cell_type": "markdown",
   "metadata": {},
   "source": [
    "# Meteo"
   ]
  },
  {
   "cell_type": "code",
   "execution_count": null,
   "metadata": {},
   "outputs": [],
   "source": [
    "#open the meteo data, the values are separated by ;\n",
    "\n",
    "meteo_path = '/home/leo/Documents/These/Données/Meteo/Q_987_previous-1950-2023_RR-T-Vent.csv'\n",
    "meteo_df = pd.read_csv(meteo_path, sep=';')\n",
    "# Print the column names to check if they match\n",
    "print(meteo_df.columns)\n",
    "\n",
    "#get the other dataset with the meteo data in the same format and put it in meteo_df\n",
    "meteo_path2 = '/home/leo/Documents/These/Données/Meteo/Q_987_previous-1950-2023_autres-parametres.csv'\n",
    "meteo_df2 = pd.read_csv(meteo_path2, sep=';')\n",
    "# Print the column names to check if they match\n",
    "print(meteo_df2.columns)\n",
    "\n",
    "# keep only the values where 'NOM_USUEL' == 'TETIAROA 1'\n",
    "meteo_df = meteo_df[meteo_df['NOM_USUEL'] == 'TETIAROA 1']\n",
    "meteo_df2 = meteo_df2[meteo_df2['NOM_USUEL'] == 'TETIAROA 1']\n",
    "\n",
    "\n",
    "meteo_df2.head()"
   ]
  },
  {
   "cell_type": "code",
   "execution_count": null,
   "metadata": {},
   "outputs": [],
   "source": [
    "# Keep only the AAAAMMJJ, RR, TX, TM and FXI2 columns\n",
    "meteo_df = meteo_df[['AAAAMMJJ', 'RR', 'TX', 'TM', 'FFM', 'TN']]\n",
    "\n",
    "# Keep AAAAMMJJ, GLOT, UM UN UX in df2\n",
    "meteo_df2 = meteo_df2[['AAAAMMJJ', 'GLOT', 'UM', 'UN', 'UX']]\n",
    "\n",
    "# Convert the 'AAAAMMJJ' column to datetime format and remove all values where the date is before 2014-01-01, same for df2\n",
    "meteo_df['AAAAMMJJ'] = pd.to_datetime(meteo_df['AAAAMMJJ'], format='%Y%m%d')\n",
    "meteo_df = meteo_df[meteo_df['AAAAMMJJ'] >= pd.to_datetime('2014-01-01')]\n",
    "\n",
    "meteo_df2['AAAAMMJJ'] = pd.to_datetime(meteo_df2['AAAAMMJJ'], format='%Y%m%d')\n",
    "meteo_df2 = meteo_df2[meteo_df2['AAAAMMJJ'] >= pd.to_datetime('2014-01-01')]"
   ]
  },
  {
   "cell_type": "code",
   "execution_count": null,
   "metadata": {},
   "outputs": [],
   "source": [
    "#merge the two\n",
    "meteo_df = pd.merge(meteo_df, meteo_df2, on='AAAAMMJJ', how='inner')\n",
    "meteo_df.head()\n",
    "\n",
    "# Replace missing values wwith np.nan\n",
    "meteo_df = meteo_df.replace('mq', np.nan)"
   ]
  },
  {
   "cell_type": "code",
   "execution_count": null,
   "metadata": {},
   "outputs": [],
   "source": [
    "# Take the average of each column for each day\n",
    "meteo_df_mean = meteo_df.groupby('AAAAMMJJ').mean().reset_index()\n",
    "\n",
    "# Now take the min and max values for each day\n",
    "meteo_df_min = meteo_df.groupby('AAAAMMJJ').min().reset_index()\n",
    "meteo_df_max = meteo_df.groupby('AAAAMMJJ').max().reset_index()\n",
    "\n",
    "# Now do a single data set with the sum of RR for each day, only with the RR column\n",
    "meteo_df_sum = meteo_df.groupby('AAAAMMJJ')['RR'].sum().reset_index()\n",
    "meteo_df_sum['precip_1week'] = meteo_df_sum['RR'].rolling(window=7, min_periods=1).sum()\n",
    "meteo_df_sum['precip_2weeks'] = meteo_df_sum['RR'].rolling(window=14, min_periods=1).sum()\n",
    "\n",
    "# Take a sliding mean that take sinto account the previous two days and the next wo days for TM\n",
    "meteo_df_min['TM_sliding_mean'] = meteo_df_min['TM'].rolling(window=5, min_periods=1).mean()\n",
    "meteo_df_mean['TM_sliding_mean'] = meteo_df_mean['TM'].rolling(window=5, min_periods=1).mean()\n",
    "\n",
    "# Same for GLOT but taking the previous 6 days\n",
    "meteo_df_min['GLOT_sliding_mean'] = meteo_df_min['GLOT'].rolling(window=7, min_periods=1, center=False).mean()\n",
    "meteo_df_mean['GLOT_sliding_mean'] = meteo_df_mean['GLOT'].rolling(window=7, min_periods=1, center=False).mean()"
   ]
  },
  {
   "cell_type": "code",
   "execution_count": null,
   "metadata": {},
   "outputs": [],
   "source": [
    "#get the date for the max of captured mosquitoes in 2021 without using dt.year\n",
    "max_date = df_poly_c[(pd.to_datetime('2021-01-01') < df_poly_c['Date']) & (df_poly_c['Date'] < pd.to_datetime('2022-01-01'))].groupby('Date')['Nb_ind'].sum().idxmax()\n",
    "print(max_date)"
   ]
  },
  {
   "cell_type": "code",
   "execution_count": null,
   "metadata": {},
   "outputs": [],
   "source": [
    "fig, axs = plt.subplots(2, 5, figsize=(20, 10))\n",
    "max_date = df_poly_c[(pd.to_datetime('2015-01-01') < df_poly_c['Date']) & (df_poly_c['Date'] < pd.to_datetime('2022-01-01'))].groupby('Date')['Nb_ind'].sum().idxmax()\n",
    "\n",
    "date_min = pd.to_datetime('2019-01-01')\n",
    "date_max = pd.to_datetime('2022-02-01')\n",
    "# Plot 1: Number of Individuals by Date (Capture)\n",
    "sns.scatterplot(data=df_poly_c, x='Date', y='Nb_ind', s=20, ax=axs[0, 0])\n",
    "axs[0, 0].set_title('Number of Individuals by Date (Capture)')\n",
    "axs[0, 0].set_xlabel('Date')\n",
    "axs[0, 0].set_xlim(date_min, date_max)\n",
    "axs[0, 0].set_ylabel('Number of Individuals')\n",
    "axs[0, 0].grid(True)\n",
    "axs[0, 0].tick_params(axis='x', rotation=45)\n",
    "axs[0, 0].axvline(max_date, color='red', linestyle='--')\n",
    "\n",
    "# Plot 2: Temperature minimale par jour\n",
    "sns.scatterplot(data=meteo_df_min, x='AAAAMMJJ', y='TM', s=20, ax=axs[0, 1])\n",
    "axs[0, 1].set_title('Temperature minimale par jour')\n",
    "axs[0, 1].set_xlabel('Date')\n",
    "axs[0, 1].set_xlim(date_min, date_max)\n",
    "axs[0, 1].set_ylabel('Temperature')\n",
    "axs[0, 1].grid(True)\n",
    "axs[0, 1].tick_params(axis='x', rotation=45)\n",
    "axs[0, 1].axvline(max_date, color='red', linestyle='--')\n",
    "\n",
    "# Plot 3: Température Moyenne par jour\n",
    "sns.scatterplot(data=meteo_df_mean, x='AAAAMMJJ', y='TM', s=20, ax=axs[0, 2])\n",
    "axs[0, 2].set_title('Température Moyenne par jour')\n",
    "axs[0, 2].set_xlabel('Date')\n",
    "axs[0, 2].set_xlim(date_min, date_max)\n",
    "axs[0, 2].set_ylabel('Temperature moyenne')\n",
    "axs[0, 2].grid(True)\n",
    "axs[0, 2].tick_params(axis='x', rotation=45)\n",
    "axs[0, 2].axvline(max_date, color='red', linestyle='--')\n",
    "\n",
    "# Plot 4: Précipitation par jour\n",
    "sns.scatterplot(data=meteo_df_sum, x='AAAAMMJJ', y='RR', s=20, ax=axs[0, 3])\n",
    "axs[0, 3].set_title('Précipitation par jour')\n",
    "axs[0, 3].set_xlabel('Date')\n",
    "axs[0, 3].set_xlim(date_min, date_max)\n",
    "axs[0, 3].set_ylabel('Précipitation')\n",
    "axs[0, 3].grid(True)\n",
    "axs[0, 3].tick_params(axis='x', rotation=45)\n",
    "axs[0, 3].axvline(max_date, color='red', linestyle='--')\n",
    "\n",
    "# Plot 5: FFM values\n",
    "sns.scatterplot(data=meteo_df_mean, x='AAAAMMJJ', y='TM_sliding_mean', s=20, ax=axs[0, 4])\n",
    "axs[0, 4].set_title('Temperature moyenne avec moyenne glissante par jour')\n",
    "axs[0, 4].set_xlabel('Date')\n",
    "axs[0, 4].set_xlim(date_min, date_max)\n",
    "axs[0, 4].set_ylabel('FFM')\n",
    "axs[0, 4].grid(True)\n",
    "axs[0, 4].tick_params(axis='x', rotation=45)\n",
    "axs[0, 4].axvline(max_date, color='red', linestyle='--')\n",
    "\n",
    "# Plot 6: Temperature mpyenne glissante\n",
    "sns.scatterplot(data=meteo_df_min, x='AAAAMMJJ', y='TM_sliding_mean', s=20, ax=axs[1, 0])\n",
    "axs[1, 0].set_title('Temperature minimale avec moyenne glissante par jour')\n",
    "axs[1, 0].set_xlabel('Date')\n",
    "axs[1, 0].set_xlim(date_min, date_max)\n",
    "axs[1, 0].set_ylabel('Temperature')\n",
    "axs[1, 0].grid(True)\n",
    "axs[1, 0].tick_params(axis='x', rotation=45)\n",
    "axs[1, 0].axvline(max_date, color='red', linestyle='--')\n",
    "\n",
    "# Plot 7: FFM values\n",
    "sns.scatterplot(data=meteo_df_mean, x='AAAAMMJJ', y='UM', s=20, ax=axs[1, 1])\n",
    "axs[1, 1].set_title('Humidité moyenne par jour')\n",
    "axs[1, 1].set_xlabel('Date')\n",
    "axs[1, 1].set_xlim(date_min, date_max)\n",
    "axs[1, 1].set_ylabel('Humidité (%)')\n",
    "axs[1, 1].grid(True)\n",
    "axs[1, 1].tick_params(axis='x', rotation=45)\n",
    "axs[1, 1].axvline(max_date, color='red', linestyle='--')\n",
    "\n",
    "# Plot 8: Temperature mpyenne glissante\n",
    "sns.scatterplot(data=meteo_df_min, x='AAAAMMJJ', y='UN', s=20, ax=axs[1, 2])\n",
    "axs[1, 2].set_title('Humidité minimale par jour')\n",
    "axs[1, 2].set_xlabel('Date')\n",
    "axs[1, 2].set_xlim(date_min, date_max)\n",
    "axs[1, 2].set_ylabel('Humidité (%)')\n",
    "axs[1, 2].grid(True)\n",
    "axs[1, 2].tick_params(axis='x', rotation=45)\n",
    "axs[1, 2].axvline(max_date, color='red', linestyle='--')\n",
    "\n",
    "# Plot 9: FFM values\n",
    "sns.scatterplot(data=meteo_df_sum, x='AAAAMMJJ', y='precip_1week', s=20, ax=axs[1, 3])\n",
    "axs[1, 3].set_title('Cumul de précipitations sur 1 semaine')\n",
    "axs[1, 3].set_xlabel('Date')\n",
    "axs[1, 3].set_xlim(date_min, date_max)\n",
    "axs[1, 3].set_ylabel('Humidité (%)')\n",
    "axs[1, 3].grid(True)\n",
    "axs[1, 3].tick_params(axis='x', rotation=45)\n",
    "axs[1, 3].axvline(max_date, color='red', linestyle='--')\n",
    "\n",
    "# Plot 10: Temperature mpyenne glissante\n",
    "sns.scatterplot(data=meteo_df_sum, x='AAAAMMJJ', y='precip_2weeks', s=20, ax=axs[1, 4])\n",
    "axs[1, 4].set_title('Cumul de précipitations sur 2 semaines')\n",
    "axs[1, 4].set_xlabel('Date')\n",
    "axs[1, 4].set_xlim(date_min, date_max)\n",
    "axs[1, 4].set_ylabel('Ensoleillement (J/cm2)')\n",
    "axs[1, 4].grid(True)\n",
    "axs[1, 4].tick_params(axis='x', rotation=45)\n",
    "axs[1, 4].axvline(max_date, color='red', linestyle='--')\n",
    "\n",
    "# save the plot to a file\n",
    "plt.savefig('../img/meteo_plot.png')\n",
    "plt.tight_layout()\n",
    "plt.show()\n"
   ]
  },
  {
   "cell_type": "markdown",
   "metadata": {},
   "source": [
    "# Study of the RR variable"
   ]
  },
  {
   "cell_type": "code",
   "execution_count": null,
   "metadata": {},
   "outputs": [],
   "source": [
    "meteo_df = meteo_df[['AAAAMMJJ', 'RR']]\n",
    "meteo_df.head()\n",
    "\n",
    "meteo_df_sum = meteo_df_sum[['AAAAMMJJ', 'precip_1week', 'precip_2weeks']]\n",
    "meteo_df_sum.head()"
   ]
  },
  {
   "cell_type": "code",
   "execution_count": null,
   "metadata": {},
   "outputs": [],
   "source": [
    "#plot the precip_2weeks and evolution of capured individuals on tetiaroa\n",
    "date_min = pd.to_datetime('2019-05-02')\n",
    "date_max = pd.to_datetime('2021-12-31')\n",
    "fig, axs = plt.subplots(2, 1, figsize=(10, 10))\n",
    "# Plot 1: Number of Individuals by Date (Capture)\n",
    "sns.scatterplot(data=tiny_df, x='Date', y='Nb_ind', s=20, ax=axs[0])\n",
    "axs[0].set_title('Number of Individuals by Date (Capture) on tetiaroa')\n",
    "axs[0].set_xlabel('Date')\n",
    "axs[0].set_xlim(date_min, date_max)\n",
    "axs[0].set_ylabel('Number of Individuals')\n",
    "axs[0].grid(True)\n",
    "axs[0].tick_params(axis='x', rotation=45)\n",
    "axs[0].axvline(max_date, color='red', linestyle='--')\n",
    "# Plot 2: Precipitation by Date\n",
    "sns.scatterplot(data=meteo_df_sum, x='AAAAMMJJ', y='precip_2weeks', s=20, ax=axs[1])\n",
    "axs[1].set_title('Cumul de précipitations sur 2 semaines')\n",
    "axs[1].set_xlabel('Date')\n",
    "axs[1].set_xlim(date_min, date_max)\n",
    "axs[1].set_ylabel('Cumul de précipitations (mm)')\n",
    "axs[1].grid(True)\n",
    "axs[1].tick_params(axis='x', rotation=45)\n",
    "axs[1].axvline(max_date, color='red', linestyle='--')\n",
    "plt.tight_layout()\n",
    "#plt.savefig('../img/meteo_plot2.png')\n",
    "plt.show()"
   ]
  },
  {
   "cell_type": "code",
   "execution_count": null,
   "metadata": {},
   "outputs": [],
   "source": [
    "# same on honuea\n",
    "fig, axs = plt.subplots(2, 1, figsize=(10, 10))\n",
    "# Plot 1: Number of Individuals by Date (Capture)\n",
    "sns.scatterplot(data=tiny_df_honuea, x='Date', y='Nb_ind', s=20, ax=axs[0])\n",
    "axs[0].set_title('Number of Individuals by Date (Capture) on honuea')\n",
    "axs[0].set_xlabel('Date')\n",
    "axs[0].set_xlim(date_min, date_max)\n",
    "axs[0].set_ylabel('Number of Individuals')\n",
    "axs[0].grid(True)\n",
    "axs[0].tick_params(axis='x', rotation=45)\n",
    "axs[0].axvline(max_date, color='red', linestyle='--')\n",
    "# Plot 2: Precipitation by Date\n",
    "sns.scatterplot(data=meteo_df_sum, x='AAAAMMJJ', y='precip_2weeks', s=20, ax=axs[1])\n",
    "axs[1].set_title('Cumul de précipitations sur 2 semaines')\n",
    "axs[1].set_xlabel('Date')\n",
    "axs[1].set_xlim(date_min, date_max)\n",
    "axs[1].set_ylabel('Cumul de précipitations (mm)')\n",
    "axs[1].grid(True)\n",
    "axs[1].tick_params(axis='x', rotation=45)\n",
    "axs[1].axvline(max_date, color='red', linestyle='--')\n",
    "plt.tight_layout()\n",
    "#plt.savefig('../img/meteo_plot_honuea.png')\n",
    "plt.show()"
   ]
  },
  {
   "cell_type": "code",
   "execution_count": null,
   "metadata": {},
   "outputs": [],
   "source": []
  }
 ],
 "metadata": {
  "kernelspec": {
   "display_name": "base",
   "language": "python",
   "name": "python3"
  },
  "language_info": {
   "codemirror_mode": {
    "name": "ipython",
    "version": 3
   },
   "file_extension": ".py",
   "mimetype": "text/x-python",
   "name": "python",
   "nbconvert_exporter": "python",
   "pygments_lexer": "ipython3",
   "version": "3.9.20"
  }
 },
 "nbformat": 4,
 "nbformat_minor": 2
}
