{
 "cells": [
  {
   "cell_type": "markdown",
   "id": "804c3a21",
   "metadata": {},
   "source": [
    "# With only males and females individuals (which fits the capture)"
   ]
  },
  {
   "cell_type": "markdown",
   "id": "1a3e7a17",
   "metadata": {},
   "source": []
  }
 ],
 "metadata": {
  "language_info": {
   "name": "python"
  }
 },
 "nbformat": 4,
 "nbformat_minor": 5
}
