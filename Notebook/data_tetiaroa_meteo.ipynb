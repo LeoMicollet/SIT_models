{
 "cells": [
  {
   "cell_type": "markdown",
   "metadata": {},
   "source": [
    "# First glance on Onetahi"
   ]
  },
  {
   "cell_type": "code",
   "execution_count": null,
   "metadata": {},
   "outputs": [],
   "source": [
    "import matplotlib.pyplot as plt\n",
    "import numpy as np\n",
    "import pandas as pd\n",
    "import seaborn as sns"
   ]
  },
  {
   "cell_type": "markdown",
   "metadata": {},
   "source": [
    "# Meteo"
   ]
  },
  {
   "cell_type": "code",
   "execution_count": null,
   "metadata": {},
   "outputs": [],
   "source": [
    "#open the meteo data, the values are separated by ;\n",
    "\n",
    "meteo_path = '/home/leo/Documents/These/Données/Meteo/Q_987_previous-1950-2023_RR-T-Vent.csv'\n",
    "meteo_df = pd.read_csv(meteo_path, sep=';')\n",
    "# print the values of the column 'NOM_USUEL' to see what stations are available\n",
    "noms = meteo_df['NOM_USUEL'].unique()\n",
    "print(noms)\n"
   ]
  },
  {
   "cell_type": "code",
   "execution_count": null,
   "metadata": {},
   "outputs": [],
   "source": [
    "# keep only the values where 'NOM_USUEL' == 'TETIAROA 1'\n",
    "meteo_df = meteo_df[meteo_df['NOM_USUEL'] == 'TETIAROA 1']\n"
   ]
  },
  {
   "cell_type": "code",
   "execution_count": null,
   "metadata": {},
   "outputs": [],
   "source": [
    "# Add the UM variable (humidity) from the file Q_987_previous-1950-2023_autres-parametres.csv\n",
    "meteo_path2 = '/home/leo/Documents/These/Données/Meteo/Q_987_previous-1950-2023_autres-parametres.csv'\n",
    "meteo_df2 = pd.read_csv(meteo_path2, sep=';')\n",
    "meteo_df2 = meteo_df2[meteo_df2['NOM_USUEL'] == 'TETIAROA 1']\n",
    "meteo_df2 = meteo_df2[['AAAAMMJJ', 'UX', 'UM', 'DHUMI80']]"
   ]
  },
  {
   "cell_type": "code",
   "execution_count": null,
   "metadata": {},
   "outputs": [],
   "source": [
    "# Same for the Q_987_latest-2024-2025_*.csv\n",
    "meteo_path3 = '/home/leo/Documents/These/Données/Meteo/Q_987_latest-2024-2025_RR-T-Vent.csv'\n",
    "meteo_df3 = pd.read_csv(meteo_path3, sep=';')\n",
    "meteo_df3 = meteo_df3[meteo_df3['NOM_USUEL'] == 'TETIAROA 1']\n",
    "meteo_df3 = meteo_df3[['AAAAMMJJ', 'RR', 'TX', 'TM', 'FFM', 'TN']]\n",
    "# Convert the 'AAAAMMJJ' column to datetime format and remove all values where the date is before 2014-01-01, same for df2 \n",
    "meteo_df3['AAAAMMJJ'] = pd.to_datetime(meteo_df3['AAAAMMJJ'], format='%Y%m%d')\n",
    "\n",
    "\n",
    "meteo_path3 = '/home/leo/Documents/These/Données/Meteo/Q_987_latest-2024-2025_autres-parametres.csv'\n",
    "meteo_df4 = pd.read_csv(meteo_path3, sep=';')\n",
    "meteo_df4 = meteo_df4[meteo_df4['NOM_USUEL'] == 'TETIAROA 1']\n",
    "meteo_df4 = meteo_df4[['AAAAMMJJ', 'UX', 'UM', 'DHUMI80']]\n",
    "meteo_df4['AAAAMMJJ'] = pd.to_datetime(meteo_df4['AAAAMMJJ'], format='%Y%m%d')\n",
    "\n",
    "#merge meteo_df3 and meteo_df4\n",
    "meteo_df3 = pd.merge(meteo_df3, meteo_df4, on='AAAAMMJJ', how='left')\n"
   ]
  },
  {
   "cell_type": "code",
   "execution_count": null,
   "metadata": {},
   "outputs": [],
   "source": [
    "# Keep only the AAAAMMJJ, RR, TX, TM and FXI2 columns\n",
    "meteo_df = meteo_df[['AAAAMMJJ', 'RR', 'TX', 'TM', 'FFM', 'TN']]\n",
    "#Add the UM column from meteo_df2 to meteo_df\n",
    "meteo_df = pd.merge(meteo_df, meteo_df2, on='AAAAMMJJ', how='left')\n"
   ]
  },
  {
   "cell_type": "code",
   "execution_count": null,
   "metadata": {},
   "outputs": [],
   "source": [
    "\n",
    "# Convert the 'AAAAMMJJ' column to datetime format and remove all values where the date is before 2014-01-01, same for df2\n",
    "meteo_df['AAAAMMJJ'] = pd.to_datetime(meteo_df['AAAAMMJJ'], format='%Y%m%d')\n",
    "#meteo_df = meteo_df[meteo_df['AAAAMMJJ'] >= pd.to_datetime('2018-05-01')]\n",
    "\n",
    "# Concatenate meteo_df and meteo_df3\n",
    "meteo_df = pd.concat([meteo_df, meteo_df3], axis=0)\n",
    "# Remove duplicates\n",
    "meteo_df = meteo_df.drop_duplicates(subset=['AAAAMMJJ'])\n",
    "# Sort by date\n",
    "meteo_df = meteo_df.sort_values(by='AAAAMMJJ')"
   ]
  },
  {
   "cell_type": "code",
   "execution_count": null,
   "metadata": {},
   "outputs": [],
   "source": [
    "# Keep the values where the date is before 2024-11-20 00:00:00\n",
    "meteo_df = meteo_df[meteo_df['AAAAMMJJ'] < pd.to_datetime('2024-11-20 00:00:00')]\n",
    "\n",
    "meteo_df = meteo_df[meteo_df['AAAAMMJJ'] > pd.to_datetime('2019-07-01 00:00:00')]"
   ]
  },
  {
   "cell_type": "code",
   "execution_count": null,
   "metadata": {},
   "outputs": [],
   "source": [
    "meteo_df.head()"
   ]
  },
  {
   "cell_type": "code",
   "execution_count": null,
   "metadata": {},
   "outputs": [],
   "source": [
    "#plot Humidity (UM) over time\n",
    "plt.figure(figsize=(10, 5))\n",
    "plt.plot(meteo_df['AAAAMMJJ'], meteo_df['TM'], label='Humidity (UM)', color='blue')\n",
    "plt.xlabel('Date')\n",
    "plt.ylabel('Humidity (%)')\n",
    "plt.title('Humidity over Time at Tetiaroa 1')\n",
    "plt.legend()\n",
    "plt.grid()\n",
    "plt.show()"
   ]
  },
  {
   "cell_type": "code",
   "execution_count": null,
   "metadata": {},
   "outputs": [],
   "source": [
    "# Now take the min and max values for each day\n",
    "meteo_df_min = meteo_df.groupby('AAAAMMJJ').min().reset_index()\n",
    "meteo_df_max = meteo_df.groupby('AAAAMMJJ').max().reset_index()\n",
    "\n",
    "# Now do a single data set with the sum of RR for each day, only with the RR column\n",
    "meteo_df_sum = meteo_df.groupby('AAAAMMJJ')['RR'].sum().reset_index()\n",
    "meteo_df_sum['precip_1week'] = meteo_df_sum['RR'].rolling(window=7, min_periods=1).sum()\n",
    "meteo_df_sum['precip_2weeks'] = meteo_df_sum['RR'].rolling(window=14, min_periods=1).sum()\n",
    "meteo_df_sum['precip_1month'] = meteo_df_sum['RR'].rolling(window=28, min_periods=1).sum()\n",
    "\n",
    "# Take a sliding mean that take sinto account the previous two days and the next wo days for TM\n",
    "meteo_df_min['TM_sliding_mean'] = meteo_df_min['TM'].rolling(window=5, min_periods=1).mean()\n",
    "meteo_df['TM_sliding_mean'] = meteo_df['TM'].rolling(window=5, min_periods=1).mean()\n"
   ]
  },
  {
   "cell_type": "code",
   "execution_count": null,
   "metadata": {},
   "outputs": [],
   "source": [
    "fig, axs = plt.subplots(2, 5, figsize=(20, 10))\n",
    "date_min = meteo_df['AAAAMMJJ'].min()\n",
    "date_max = meteo_df['AAAAMMJJ'].max()\n",
    "# Plot 1: Number of Individuals by Date (Capture)\n",
    "sns.scatterplot(data=meteo_df, x='AAAAMMJJ', y='UM', s=20, ax=axs[0, 0])\n",
    "axs[0, 0].set_title('Mean humidity par jour')\n",
    "axs[0, 0].set_xlabel('Date')\n",
    "axs[0, 0].set_xlim(date_min, date_max)\n",
    "axs[0, 0].set_ylabel('Humidity (%)')\n",
    "axs[0, 0].grid(True)\n",
    "axs[0, 0].tick_params(axis='x', rotation=45)\n",
    "\n",
    "# Plot 2: Temperature minimale par jour\n",
    "sns.scatterplot(data=meteo_df_min, x='AAAAMMJJ', y='TM', s=20, ax=axs[0, 1])\n",
    "axs[0, 1].set_title('Temperature minimale par jour')\n",
    "axs[0, 1].set_xlabel('Date')\n",
    "axs[0, 1].set_xlim(date_min, date_max)\n",
    "axs[0, 1].set_ylabel('Temperature')\n",
    "axs[0, 1].grid(True)\n",
    "axs[0, 1].tick_params(axis='x', rotation=45)\n",
    "\n",
    "# Plot 3: Température Moyenne par jour\n",
    "sns.scatterplot(data=meteo_df, x='AAAAMMJJ', y='TM', s=20, ax=axs[0, 2])\n",
    "axs[0, 2].set_title('Température Moyenne par jour')\n",
    "axs[0, 2].set_xlabel('Date')\n",
    "axs[0, 2].set_xlim(date_min, date_max)\n",
    "axs[0, 2].set_ylabel('Temperature moyenne')\n",
    "axs[0, 2].grid(True)\n",
    "axs[0, 2].tick_params(axis='x', rotation=45)\n",
    "\n",
    "# Plot 4: Précipitation par jour\n",
    "sns.scatterplot(data=meteo_df_sum, x='AAAAMMJJ', y='RR', s=20, ax=axs[0, 3])\n",
    "axs[0, 3].set_title('Précipitation par jour')\n",
    "axs[0, 3].set_xlabel('Date')\n",
    "axs[0, 3].set_xlim(date_min, date_max)\n",
    "axs[0, 3].set_ylabel('Précipitation')\n",
    "axs[0, 3].grid(True)\n",
    "axs[0, 3].tick_params(axis='x', rotation=45)\n",
    "\n",
    "# Plot 5: FFM values\n",
    "sns.scatterplot(data=meteo_df, x='AAAAMMJJ', y='TM_sliding_mean', s=20, ax=axs[0, 4])\n",
    "axs[0, 4].set_title('Temperature moyenne avec moyenne glissante par jour')\n",
    "axs[0, 4].set_xlabel('Date')\n",
    "axs[0, 4].set_xlim(date_min, date_max)\n",
    "axs[0, 4].set_ylabel('FFM')\n",
    "axs[0, 4].grid(True)\n",
    "axs[0, 4].tick_params(axis='x', rotation=45)\n",
    "\n",
    "# Plot 6: Temperature mpyenne glissante\n",
    "sns.scatterplot(data=meteo_df_min, x='AAAAMMJJ', y='TM_sliding_mean', s=20, ax=axs[1, 0])\n",
    "axs[1, 0].set_title('Temperature minimale avec moyenne glissante par jour')\n",
    "axs[1, 0].set_xlabel('Date')\n",
    "axs[1, 0].set_xlim(date_min, date_max)\n",
    "axs[1, 0].set_ylabel('Temperature')\n",
    "axs[1, 0].grid(True)\n",
    "axs[1, 0].tick_params(axis='x', rotation=45)\n",
    "\n",
    "sns.scatterplot(data=meteo_df_sum, x='AAAAMMJJ', y='precip_1month', s=20, ax=axs[1, 2])\n",
    "axs[1, 2].set_title('Cumul precip 1 mois')\n",
    "axs[1, 2].set_xlabel('Date')\n",
    "axs[1, 2].set_xlim(date_min, date_max)\n",
    "axs[1, 2].set_ylabel('Précipitation (mm)')\n",
    "axs[1, 2].grid(True)\n",
    "axs[1, 2].tick_params(axis='x', rotation=45)\n",
    "\n",
    "# Plot 9: FFM values\n",
    "sns.scatterplot(data=meteo_df_sum, x='AAAAMMJJ', y='precip_1week', s=20, ax=axs[1, 3])\n",
    "axs[1, 3].set_title('Cumul de précipitations sur 1 semaine')\n",
    "axs[1, 3].set_xlabel('Date')\n",
    "axs[1, 3].set_xlim(date_min, date_max)\n",
    "axs[1, 3].set_ylabel('Humidité (%)')\n",
    "axs[1, 3].grid(True)\n",
    "axs[1, 3].tick_params(axis='x', rotation=45)\n",
    "\n",
    "# Plot 10: Temperature mpyenne glissante\n",
    "sns.scatterplot(data=meteo_df_sum, x='AAAAMMJJ', y='precip_2weeks', s=20, ax=axs[1, 4])\n",
    "axs[1, 4].set_title('Cumul de précipitations sur 2 semaines')\n",
    "axs[1, 4].set_xlabel('Date')\n",
    "axs[1, 4].set_xlim(date_min, date_max)\n",
    "axs[1, 4].set_ylabel('Ensoleillement (J/cm2)')\n",
    "axs[1, 4].grid(True)\n",
    "axs[1, 4].tick_params(axis='x', rotation=45)\n",
    "\n",
    "# save the plot to a file\n",
    "plt.savefig('../img/meteo_plot.png')\n",
    "plt.tight_layout()\n",
    "plt.show()\n"
   ]
  },
  {
   "cell_type": "markdown",
   "metadata": {},
   "source": [
    "# Creation of the meteo dataframe for simulations"
   ]
  },
  {
   "cell_type": "markdown",
   "metadata": {},
   "source": [
    "We want to keep and precip_2week only, with a linear interpolation to get a dataset with time step of np.linspace(0, 1552, 100001)"
   ]
  },
  {
   "cell_type": "code",
   "execution_count": null,
   "metadata": {},
   "outputs": [],
   "source": [
    "dt_new = 0.01\n",
    "# Create a time vector from 0 to (number of days - 1)\n",
    "\n",
    "time_original = np.arange(len(meteo_df_min))\n",
    "time_new = np.arange(time_original.min(), time_original.max(), dt_new)\n",
    "temp_new = np.interp(time_new, time_original, meteo_df['TM'])\n",
    "precip2_new = np.interp(time_new, time_original, meteo_df_sum['precip_2weeks'])\n",
    "precip1_new = np.interp(time_new, time_original, meteo_df_sum['precip_1week'])\n",
    "precip4_new = np.interp(time_new, time_original, meteo_df_sum['precip_1month'])\n",
    "precip_new = np.interp(time_new, time_original, meteo_df['RR'])\n",
    "hum_new = np.interp(time_new, time_original, meteo_df['UM'])"
   ]
  },
  {
   "cell_type": "code",
   "execution_count": null,
   "metadata": {},
   "outputs": [],
   "source": [
    "# In the dataframe, we want to keep track of the date\n",
    "date = meteo_df['AAAAMMJJ'].reset_index(drop=True)\n",
    "# Calculate frequency in minutes or seconds to avoid ZeroDivisionError\n",
    "freq_hours = dt_new * 24\n",
    "freq_minutes = dt_new * 24 * 60\n",
    "freq_seconds = dt_new * 24 * 60 * 60\n",
    "\n",
    "if int(freq_hours) >= 1:\n",
    "\tfreq_str = f'{int(freq_hours)}H'\n",
    "elif int(freq_minutes) >= 1:\n",
    "\tfreq_str = f'{int(freq_minutes)}min'\n",
    "else:\n",
    "\tfreq_str = f'{int(freq_seconds)}s'\n",
    "\n",
    "date_new = pd.date_range(start=date.min(), periods=len(time_new), freq=freq_str)\n",
    "date_new"
   ]
  },
  {
   "cell_type": "code",
   "execution_count": null,
   "metadata": {},
   "outputs": [],
   "source": [
    "df_resampled = pd.DataFrame({'date': date_new, 'time': time_new, 'TM': temp_new, 'precip': precip_new, 'precip1': precip1_new, 'precip2': precip2_new, 'precip4': precip4_new, 'UM': hum_new})"
   ]
  },
  {
   "cell_type": "code",
   "execution_count": null,
   "metadata": {},
   "outputs": [],
   "source": [
    "df_resampled.head()"
   ]
  },
  {
   "cell_type": "code",
   "execution_count": null,
   "metadata": {},
   "outputs": [],
   "source": [
    "import os\n",
    "\n",
    "# Ensure the directory exists\n",
    "os.makedirs('../Data', exist_ok=True)\n",
    "\n",
    "# Export to csv\n",
    "#df_resampled.to_csv('../Data/meteo_tetiaroa_resampled.csv', index=False)"
   ]
  },
  {
   "cell_type": "markdown",
   "metadata": {},
   "source": [
    "# Plot some meteo variables with the capture data"
   ]
  },
  {
   "cell_type": "code",
   "execution_count": null,
   "metadata": {},
   "outputs": [],
   "source": [
    "capture_df = pd.read_csv('../Data/combined_poly_capture.csv')\n",
    "capture_df['Date'] = pd.to_datetime(capture_df['Date'])"
   ]
  },
  {
   "cell_type": "code",
   "execution_count": null,
   "metadata": {},
   "outputs": [],
   "source": [
    "#Plot of the capture data for the motu Oroatera with temperature and precipitation\n",
    "fig, axs = plt.subplots(2,1, figsize=(15, 9))\n",
    "axs[0].step(date_new, temp_new, where=\"post\", label='Mean daily temperature', color='red')\n",
    "axs[0].set_xlabel('Days')\n",
    "axs[0].set_ylabel('Temperature (°C)', color='red')\n",
    "axs[0].tick_params(axis='y', labelcolor='red')\n",
    "axs[0].set_title('Temperature and Capture Females on Oroatera Motu')\n",
    "axs[0].set_ylim(0, max(temp_new) * 1.1)\n",
    "axs[0].legend(loc='upper left')\n",
    "ax2 = axs[0].twinx()\n",
    "motu_data = capture_df[capture_df['Motu'] == 'Oroatera']\n",
    "ax2.bar(motu_data['Date'], motu_data['Nb_ind'], width=5, alpha=0.6, label='Captured', color='orange')\n",
    "ax2.set_ylabel('Number of Captured Individuals', color='orange')\n",
    "ax2.tick_params(axis='y', labelcolor='orange')\n",
    "ax2.set_ylim(0, max(motu_data['Nb_ind']) * 1.1)\n",
    "ax2.legend(loc='upper right')\n",
    "\n",
    "axs[1].step(date_new, precip4_new, where=\"post\", label='Cumulated Precipitation', color='green')\n",
    "axs[1].set_xlabel('Days')\n",
    "axs[1].set_ylabel('Precipitation (mm)', color='green')\n",
    "axs[1].tick_params(axis='y', labelcolor='green')\n",
    "axs[1].set_title('Precipitation and Capture Females on Oroatera Motu')\n",
    "axs[1].set_ylim(0, max(precip4_new) * 1.1)\n",
    "axs[1].legend(loc='upper center')\n",
    "ax2 = axs[1].twinx()\n",
    "ax2.bar(motu_data['Date'], motu_data['Nb_ind'], width=5, alpha=0.6, label='Captured', color='orange')\n",
    "ax2.set_ylabel('Number of Captured Individuals', color='orange')\n",
    "ax2.tick_params(axis='y', labelcolor='orange')\n",
    "ax2.set_ylim(0, max(motu_data['Nb_ind']) * 1.1)\n",
    "ax2.legend(loc='upper right')\n",
    "\n",
    "plt.tight_layout()\n",
    "plt.show()"
   ]
  },
  {
   "cell_type": "code",
   "execution_count": null,
   "metadata": {},
   "outputs": [],
   "source": []
  }
 ],
 "metadata": {
  "kernelspec": {
   "display_name": "base",
   "language": "python",
   "name": "python3"
  },
  "language_info": {
   "codemirror_mode": {
    "name": "ipython",
    "version": 3
   },
   "file_extension": ".py",
   "mimetype": "text/x-python",
   "name": "python",
   "nbconvert_exporter": "python",
   "pygments_lexer": "ipython3",
   "version": "3.9.20"
  }
 },
 "nbformat": 4,
 "nbformat_minor": 2
}
