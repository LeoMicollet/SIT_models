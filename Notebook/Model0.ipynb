{
 "cells": [
  {
   "cell_type": "markdown",
   "id": "dd52ea1a",
   "metadata": {},
   "source": [
    "# Test Model 0"
   ]
  },
  {
   "cell_type": "markdown",
   "id": "42dc88ba",
   "metadata": {},
   "source": [
    "\\begin{center}\n",
    "    % Do a TixZ diagram of a 2 states model\n",
    "    \\begin{tikzpicture}[node distance=2cm, auto]\n",
    "        \\node (1) [rectangle, draw, minimum size=1.5cm] {1};\n",
    "        \\node (2) [rectangle, draw, minimum size=1.5cm, right of=1, xshift=1cm] {2};\n",
    "\n",
    "        % Arrows\n",
    "        \\draw[->] ++(0.75,-0.25) -- node[midway, below] {$\\lambda_{12}$} ++(1.5, 0);\n",
    "        \\draw[->] (2.south) -- node[midway, left] {$\\delta_2$} ++(0,-1);\n",
    "        \\draw[->] (1.south) -- node[midway, left] {$\\delta_1$} ++(0,-1);\n",
    "        \\draw[->] ++(2.25,0.25) -- node[midway, above] {$\\lambda_{21}$} ++(-1.5, 0) ;\n",
    "    \\end{tikzpicture}\n",
    "\\end{center}"
   ]
  },
  {
   "cell_type": "markdown",
   "id": "fddd0952",
   "metadata": {},
   "source": [
    "2 state model, with 2 giving birth to n 1, and 1 transitioning to 2"
   ]
  },
  {
   "cell_type": "code",
   "execution_count": null,
   "id": "e0fc8703",
   "metadata": {},
   "outputs": [],
   "source": [
    "import numpy as np\n",
    "import matplotlib.pyplot as plt\n",
    "from scipy.integrate import odeint\n",
    "import math"
   ]
  },
  {
   "cell_type": "code",
   "execution_count": null,
   "id": "920ceb42",
   "metadata": {},
   "outputs": [],
   "source": [
    "death1 = 0.004\n",
    "comp = 0.005\n",
    "death2 = 0.08\n",
    "lambda12 = 0.05\n",
    "lambda21 = 0.25\n",
    "n = 10\n",
    "\n",
    "equilibrium = (n * lambda21 * lambda12 / death2 - death1 - lambda12)/comp\n",
    "print(\"Equilibrium = \", equilibrium)\n",
    "\n",
    "Xinit = [np.round(equilibrium * 0.75), np.round((lambda12/death2) * equilibrium * 0.75)]\n",
    "\n",
    "Tmax = 100"
   ]
  },
  {
   "cell_type": "markdown",
   "id": "de471430",
   "metadata": {},
   "source": [
    "## First case : only coeff and deterministic convergence"
   ]
  },
  {
   "cell_type": "markdown",
   "id": "6d613ad4",
   "metadata": {},
   "source": [
    "### Birth death process"
   ]
  },
  {
   "cell_type": "code",
   "execution_count": null,
   "id": "fe71b960",
   "metadata": {},
   "outputs": [],
   "source": [
    "# Define the birth-death process\n",
    "def bd(X1init, X2init, death1, comp, death2, lambda12, lambda21, n, Tmax, K = 1):\n",
    "    t = [0]\n",
    "    X1 = [X1init/K]\n",
    "    X2 = [X2init/K]\n",
    "    x1 = X1[-1]\n",
    "    x2 = X2[-1]\n",
    "    while t[-1] < Tmax:\n",
    "        if x1 + x2 == 0:\n",
    "            print(\"only death remains\")\n",
    "            return t, X1, X2\n",
    "        tot_rate = (death1 + lambda12 + comp * K * x1) * K * x1 + (death2 + lambda21) * K * x2 \n",
    "        if tot_rate <= 0:\n",
    "            print(\"only death remains\")\n",
    "            return t, X1, X2\n",
    "        p = np.random.rand()\n",
    "\n",
    "        if p < (lambda12 * x1) * K / tot_rate:\n",
    "            x1 -= 1/K  # Transi to 2\n",
    "            x2 += 1/K\n",
    "        elif p < ((death1 + comp * K * x1 + lambda12) * x1) * K / tot_rate:\n",
    "            x1 -= 1/K  # Death of 1\n",
    "        elif p < ((death1 + comp * K * x1 + lambda12) * x1 + lambda21 * x2) * K / tot_rate:\n",
    "            x1 += n/K  # Birth of 1\n",
    "        else:\n",
    "            x2 -= 1/K  # Death of 2\n",
    "        X1.append(x1)\n",
    "        X2.append(x2)\n",
    "        t.append(t[-1] + np.random.exponential(1 / (tot_rate)))\n",
    "    return t, X1, X2"
   ]
  },
  {
   "cell_type": "code",
   "execution_count": null,
   "id": "b9072606",
   "metadata": {},
   "outputs": [],
   "source": [
    "# Run the simulation\n",
    "tbd = []\n",
    "X1bd = []\n",
    "X2bd = []\n",
    "tbd, X1_temp, X2_temp = bd(Xinit[0], Xinit[1], death1, comp, death2, lambda12, lambda21, n, Tmax)\n",
    "X1bd = X1_temp\n",
    "X2bd = X2_temp\n",
    "Xbd = [X1bd[i] + X2bd[i] for i in range(len(X1bd))]"
   ]
  },
  {
   "cell_type": "code",
   "execution_count": null,
   "id": "313a52d9",
   "metadata": {},
   "outputs": [],
   "source": [
    "# Plot the results\n",
    "plt.figure(figsize=(10, 5))\n",
    "plt.step(tbd, X1bd, where=\"post\", label='Population')\n",
    "plt.xlabel('Time')\n",
    "plt.ylabel('Population 1 Size')\n",
    "plt.title('Continuous-Time Birth-Death Process Simulation')\n",
    "plt.ylim(0, max(X1bd) + 500)\n",
    "plt.legend()\n",
    "plt.show()"
   ]
  },
  {
   "cell_type": "code",
   "execution_count": null,
   "id": "31e8d8e5",
   "metadata": {},
   "outputs": [],
   "source": [
    "# Plot the results\n",
    "plt.figure(figsize=(10, 5))\n",
    "plt.step(tbd, X2bd, where=\"post\", label='Population')\n",
    "plt.xlabel('Time')\n",
    "plt.ylabel('Population 2 Size')\n",
    "plt.title('Continuous-Time Birth-Death Process Simulation')\n",
    "plt.ylim(0, max(X2bd) + 500)\n",
    "plt.legend()\n",
    "plt.show()"
   ]
  },
  {
   "cell_type": "code",
   "execution_count": null,
   "id": "06e53ffa",
   "metadata": {},
   "outputs": [],
   "source": [
    "# Plot the SDE results\n",
    "plt.figure(figsize=(10, 5))\n",
    "plt.plot(tbd,Xbd, label='Population')\n",
    "plt.xlabel('Time')\n",
    "plt.ylabel('Total Population Size')\n",
    "plt.title('Continuous-Time Birth-Death Process Simulation' )\n",
    "plt.ylim(0, max(Xbd) + 500)\n",
    "plt.legend()\n",
    "plt.show()"
   ]
  },
  {
   "cell_type": "markdown",
   "id": "8d5dbe49",
   "metadata": {},
   "source": [
    "### Deterministic model"
   ]
  },
  {
   "cell_type": "code",
   "execution_count": null,
   "id": "9604f15c",
   "metadata": {},
   "outputs": [],
   "source": [
    "# Define the associated ODE system\n",
    "def ode(X, t, death1, comp, death2, lambda12, lambda21, n):\n",
    "    X1, X2 = X\n",
    "    dX1dt = n * lambda21 * X2 - (death1 + comp * X1 + lambda12) * X1\n",
    "    dX2dt = lambda12 * X1 - death2 * X2\n",
    "    return [dX1dt, dX2dt]\n",
    "\n",
    "# Define the time points for the ODE solution\n",
    "interval = np.linspace(0, Tmax, 60000)\n",
    "\n",
    "# Solve the ODE system\n",
    "def ode_sim(interval, X1, X2, death1, comp, death2, lambda12, lambda21, n):\n",
    "    X = odeint(ode, [X1, X2], interval, args=(death1, comp, death2, lambda12, lambda21, n))\n",
    "    return X[:, 0], X[:, 1]"
   ]
  },
  {
   "cell_type": "code",
   "execution_count": null,
   "id": "3746e557",
   "metadata": {},
   "outputs": [],
   "source": [
    "# Run the ODE simulation\n",
    "X1_ode, X2_ode = ode_sim(interval, Xinit[0], Xinit[1], death1, comp, death2, lambda12, lambda21, n)"
   ]
  },
  {
   "cell_type": "code",
   "execution_count": null,
   "id": "571a049d",
   "metadata": {},
   "outputs": [],
   "source": [
    "# Plot the ODE results\n",
    "plt.figure(figsize=(10, 5))\n",
    "plt.plot(interval, X1_ode, label='Population')\n",
    "plt.xlabel('Time')\n",
    "plt.ylabel('Population 1 Size')\n",
    "plt.title('Deterministic Simulation')\n",
    "plt.ylim(0, max(X1bd) + 500)\n",
    "plt.legend()\n",
    "plt.show()"
   ]
  },
  {
   "cell_type": "code",
   "execution_count": null,
   "id": "614ca836",
   "metadata": {},
   "outputs": [],
   "source": [
    "# Plot the ODE results\n",
    "plt.figure(figsize=(10, 5))\n",
    "plt.plot(interval, X2_ode, label='Population')\n",
    "plt.xlabel('Time')\n",
    "plt.ylabel('Population 2 Size')\n",
    "plt.title('Deterministic Simulation')\n",
    "plt.ylim(0, max(X2bd) + 500)\n",
    "plt.legend()\n",
    "plt.show()"
   ]
  },
  {
   "cell_type": "code",
   "execution_count": null,
   "id": "68fb5929",
   "metadata": {},
   "outputs": [],
   "source": [
    "# Plot the SDE results\n",
    "plt.figure(figsize=(10, 5))\n",
    "plt.plot(interval, [X1_ode[i] + X2_ode[i] for i in range(len(X1_ode))], label='Population')\n",
    "plt.xlabel('Time')\n",
    "plt.ylabel('Total Population Size')\n",
    "plt.title(' Deterministic Simulation')\n",
    "plt.ylim(0, max(Xbd) + 500)\n",
    "plt.legend()\n",
    "plt.show()"
   ]
  },
  {
   "cell_type": "markdown",
   "id": "51db611f",
   "metadata": {},
   "source": [
    "## K order BD process"
   ]
  },
  {
   "cell_type": "code",
   "execution_count": null,
   "id": "290cd36d",
   "metadata": {},
   "outputs": [],
   "source": [
    "Tmax = 100"
   ]
  },
  {
   "cell_type": "code",
   "execution_count": null,
   "id": "3d4688ab",
   "metadata": {},
   "outputs": [],
   "source": [
    "K = 400\n",
    "gamma12 = lambda12\n",
    "gamma1 =  death1\n",
    "gamma2 =  death2 \n",
    "gamma21 =  (gamma1 + gamma12) * gamma2 /(n * gamma12)\n",
    "print(\"gamma21 = \", gamma21)\n",
    "    \n",
    "if (gamma12/gamma2 != (gamma1 + gamma12)/(n*gamma21)):\n",
    "    print(\"The condition at the Kth order is not satisfied.\")\n",
    "    print(\"gamma12/gamma2 = \", gamma12/gamma2)\n",
    "    print(\"(gamma1 + gamma12)/(n*gamma21) = \", (gamma1 + gamma12)/(n*gamma21))\n",
    "    exit(1)"
   ]
  },
  {
   "cell_type": "code",
   "execution_count": null,
   "id": "79dada90",
   "metadata": {},
   "outputs": [],
   "source": [
    "# Run the simulation\n",
    "tk = []\n",
    "X1bdk = []\n",
    "X2bdk = []\n",
    "tk, X1bdk, X2bdk = bd(Xinit[0], Xinit[1], death1 + gamma1 * K, comp, death2 + gamma2 * K, lambda12 + gamma12 * K, lambda21 + gamma21 * K, n, Tmax, K)"
   ]
  },
  {
   "cell_type": "code",
   "execution_count": null,
   "id": "cb8f83f6",
   "metadata": {},
   "outputs": [],
   "source": [
    "tk[-10:]"
   ]
  },
  {
   "cell_type": "code",
   "execution_count": null,
   "id": "7e7b00cd",
   "metadata": {},
   "outputs": [],
   "source": [
    "# Plot the results\n",
    "plt.figure(figsize=(10, 5))\n",
    "plt.step(tk, X1bdk, where=\"post\", label='Population')\n",
    "plt.xlabel('Time')\n",
    "plt.ylabel('Population 1 Size')\n",
    "plt.title('Continuous-Time Birth-Death Process Simulation')\n",
    "plt.legend()\n",
    "plt.show()"
   ]
  },
  {
   "cell_type": "code",
   "execution_count": null,
   "id": "145bd690",
   "metadata": {},
   "outputs": [],
   "source": [
    "# Plot the results\n",
    "plt.figure(figsize=(10, 5))\n",
    "plt.step(tk, X2bdk, where=\"post\", label='Population')\n",
    "plt.xlabel('Time')\n",
    "plt.ylabel('Population 1 Size')\n",
    "plt.title('Continuous-Time Birth-Death Process Simulation')\n",
    "plt.legend()\n",
    "plt.show()"
   ]
  },
  {
   "cell_type": "code",
   "execution_count": null,
   "id": "3e7b79c1",
   "metadata": {},
   "outputs": [],
   "source": [
    "# Plot the results\n",
    "plt.figure(figsize=(10, 5))\n",
    "import numpy as np\n",
    "plt.step(tk, np.array(X1bdk) - np.array(X2bdk) * gamma2/gamma12, where=\"post\", label='Population')\n",
    "plt.xlabel('Time')\n",
    "plt.ylabel('Population 1 Size')\n",
    "plt.title('Continuous-Time Birth-Death Process Simulation')\n",
    "plt.legend()\n",
    "plt.show()"
   ]
  },
  {
   "cell_type": "markdown",
   "id": "ecaaf130",
   "metadata": {},
   "source": [
    "## Second case : slow-fast convergence"
   ]
  },
  {
   "cell_type": "markdown",
   "id": "addb320c",
   "metadata": {},
   "source": [
    "Using the generator of the new birth death process, the limit stochastic diffusion for the total population 1+2 is given by\n",
    "$$dS_t = \\frac{\\gamma_{12}(n\\lambda_{21}-\\delta_2) - \\gamma_2 \\delta_1}{\\gamma_{12}+\\gamma_2}S_t dt + \\sqrt{(n+1)n \\frac{\\gamma_{21}\\gamma_{12}}{\\gamma_{12} + \\gamma_2} S_t} dB_t$$"
   ]
  },
  {
   "cell_type": "code",
   "execution_count": null,
   "id": "969af168",
   "metadata": {},
   "outputs": [],
   "source": [
    "# Define the stochastic diffusion using Euler- scheme\n",
    "coeff_diff = (n+1)* gamma2 *  (gamma12 + gamma1) / (gamma12 + gamma2)\n",
    "coeff_drift = (gamma12 * (n * lambda21 - death2) - gamma2 * death1) / (gamma12 + gamma2)"
   ]
  },
  {
   "cell_type": "code",
   "execution_count": null,
   "id": "810c9205",
   "metadata": {},
   "outputs": [],
   "source": [
    "coeff_drift * (gamma12 + gamma2)**2 / (comp * K * gamma2**2)"
   ]
  },
  {
   "cell_type": "code",
   "execution_count": null,
   "id": "49e1ac10",
   "metadata": {},
   "outputs": [],
   "source": [
    "(gamma12 + gamma2)/(gamma2 )"
   ]
  },
  {
   "cell_type": "code",
   "execution_count": null,
   "id": "7512eb09",
   "metadata": {},
   "outputs": [],
   "source": [
    "# Define the SDE function\n",
    "def sde(X, coeff_drift, coeff_diff, dt):\n",
    "    dX = (coeff_drift - (gamma2 * gamma2 * comp * K * X / (gamma2 + gamma12)**2)) * X * dt  +  np.sqrt(coeff_diff * X) * np.random.normal(0, dt)\n",
    "    return dX\n",
    "\n",
    "def sde_sim(X0, Tmax, dt, coeff_drift, coeff_diff):\n",
    "    t = np.arange(0, Tmax, dt)\n",
    "    X = np.zeros(len(t))\n",
    "    X[0] = X0/K\n",
    "    for i in range(1, len(t)):\n",
    "        X[i] = max(0, X[i-1] + sde(X[i-1], coeff_drift, coeff_diff, dt))\n",
    "    return t, X"
   ]
  },
  {
   "cell_type": "code",
   "execution_count": null,
   "id": "75eedc8c",
   "metadata": {},
   "outputs": [],
   "source": [
    "# Run the SDE simulation\n",
    "Tmax = 100\n",
    "dt = Tmax/60000\n",
    "X0 = Xinit[0] + Xinit[1]\n",
    "t_useless, X_sde = sde_sim(X0, Tmax, dt, coeff_drift, coeff_diff)\n",
    "# Plot the SDE results"
   ]
  },
  {
   "cell_type": "code",
   "execution_count": null,
   "id": "64f99f1d",
   "metadata": {},
   "outputs": [],
   "source": [
    "X1_sde = gamma2 / (gamma2 + gamma12) * X_sde\n",
    "X2_sde = gamma12 / (gamma2 + gamma12) * X_sde"
   ]
  },
  {
   "cell_type": "code",
   "execution_count": null,
   "id": "09d90cb3",
   "metadata": {},
   "outputs": [],
   "source": [
    "# Plot X1_sde\n",
    "plt.figure(figsize=(10, 5))\n",
    "plt.plot(interval, X1_sde, label='Population')\n",
    "#plt.ylim(0, max(X1bd) + 500)\n",
    "plt.xlabel('Time')\n",
    "plt.ylabel('Population 1 Size')\n",
    "plt.title('Stochastic Diffusion Simulation')\n",
    "plt.legend()\n",
    "plt.show()"
   ]
  },
  {
   "cell_type": "code",
   "execution_count": null,
   "id": "24d23895",
   "metadata": {},
   "outputs": [],
   "source": [
    "# Plot X2_sde\n",
    "plt.figure(figsize=(10, 5))\n",
    "plt.plot(interval, X2_sde, label='Population')\n",
    "plt.xlabel('Time')\n",
    "plt.ylabel('Population 2 Size')\n",
    "plt.title('Stochastic Diffusion Simulation')\n",
    "plt.legend()\n",
    "plt.show()"
   ]
  },
  {
   "cell_type": "code",
   "execution_count": null,
   "id": "f9477e39",
   "metadata": {},
   "outputs": [],
   "source": [
    "# Plot the SDE results\n",
    "plt.figure(figsize=(10, 5))\n",
    "plt.plot(interval, X_sde, label='Population')\n",
    "plt.xlabel('Time')\n",
    "plt.ylabel('Total Population Size')\n",
    "plt.title('Stochastic Diffusion Simulation')\n",
    "plt.legend()\n",
    "plt.show()"
   ]
  },
  {
   "cell_type": "markdown",
   "id": "1592fb21",
   "metadata": {},
   "source": [
    "## Comparaison ?"
   ]
  },
  {
   "cell_type": "code",
   "execution_count": null,
   "id": "4e26ea03",
   "metadata": {},
   "outputs": [],
   "source": [
    "# Plot the X1\n",
    "plt.figure(figsize=(10, 5))\n",
    "plt.plot(interval, X1_ode, alpha=0.2, label='ODE Population 1')\n",
    "plt.plot(tbd, X1bd, alpha=0.5, label='Branching Process Population 1')\n",
    "plt.plot(np.array(tk)*K, np.array(X1bdk)*K, alpha=0.5, label='Branching k order Population 1 ')\n",
    "plt.plot(interval, X1_sde*K, alpha=1, label='SDE Population 1')\n",
    "plt.xlabel('Time')\n",
    "plt.ylabel('Population 1 Size')\n",
    "plt.title('Population 1 Size Comparison')\n",
    "plt.ylim(min(X1bd) - 200, max(X1bd) + 500)\n",
    "plt.legend()\n",
    "plt.show()\n"
   ]
  },
  {
   "cell_type": "code",
   "execution_count": null,
   "id": "adc35d9a",
   "metadata": {},
   "outputs": [],
   "source": [
    "#Same for X2\n",
    "plt.figure(figsize=(10, 5))\n",
    "plt.plot(interval, X2_ode, alpha=0.2, label='ODE Population 2')\n",
    "plt.plot(tbd, X2bd, alpha=0.7, label='Branching Process Population 2')\n",
    "plt.plot(tk, np.array(X2bdk)*K, alpha=0.5, label='Branching k order Population 2 ')\n",
    "plt.plot(interval, X2_sde*K, alpha=0.7, label='SDE Population 2')\n",
    "plt.xlabel('Time')\n",
    "plt.ylabel('Population 2 Size')\n",
    "plt.title('Population 2 Size Comparison')\n",
    "plt.ylim(min(X2bd) - 200, max(X2bd) + 500)\n",
    "plt.legend()\n",
    "plt.show()"
   ]
  },
  {
   "cell_type": "code",
   "execution_count": null,
   "id": "5f4ae8bf",
   "metadata": {},
   "outputs": [],
   "source": [
    "# Plot the total populations\n",
    "plt.figure(figsize=(10, 5))\n",
    "plt.plot(interval, [X1_ode[i] + X2_ode[i] for i in range(len(X1_ode))], alpha=0.2, label='ODE Total Population')\n",
    "plt.plot(tbd, [X1bd[i] + X2bd[i] for i in range(len(X1bd))], alpha=0.75, label='Branching Process Total Population')\n",
    "plt.plot(tk, [(X1bdk[i] + X2bdk[i])*K for i in range(len(X1bdk))], alpha=0.5, label='Branching k order Total Population')\n",
    "plt.plot(interval, X_sde*K, alpha=0.5, label='SDE Total Population')\n",
    "plt.xlabel('Time')\n",
    "plt.ylabel('Total Population Size')\n",
    "plt.title('Total Population Size Comparison')\n",
    "plt.ylim(min([X1bd[i] + X2bd[i] for i in range(len(X1bd))]) - 200, max([X1bd[i] + X2bd[i] for i in range(len(X1bd))]) + 200)\n",
    "plt.legend()\n",
    "plt.grid(True)\n",
    "plt.show()"
   ]
  },
  {
   "cell_type": "code",
   "execution_count": null,
   "id": "081c692a",
   "metadata": {},
   "outputs": [],
   "source": []
  }
 ],
 "metadata": {
  "kernelspec": {
   "display_name": "base",
   "language": "python",
   "name": "python3"
  },
  "language_info": {
   "codemirror_mode": {
    "name": "ipython",
    "version": 3
   },
   "file_extension": ".py",
   "mimetype": "text/x-python",
   "name": "python",
   "nbconvert_exporter": "python",
   "pygments_lexer": "ipython3",
   "version": "3.9.20"
  }
 },
 "nbformat": 4,
 "nbformat_minor": 5
}
