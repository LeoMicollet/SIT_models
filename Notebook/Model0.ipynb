{
 "cells": [
  {
   "cell_type": "markdown",
   "id": "dd52ea1a",
   "metadata": {},
   "source": [
    "# Test Model 0"
   ]
  },
  {
   "cell_type": "markdown",
   "id": "42dc88ba",
   "metadata": {},
   "source": [
    "\\begin{center}\n",
    "    % Do a TixZ diagram of a 2 states model\n",
    "    \\begin{tikzpicture}[node distance=2cm, auto]\n",
    "        \\node (1) [rectangle, draw, minimum size=1.5cm] {1};\n",
    "        \\node (2) [rectangle, draw, minimum size=1.5cm, right of=1, xshift=1cm] {2};\n",
    "\n",
    "        % Arrows\n",
    "        \\draw[->] ++(0.75,-0.25) -- node[midway, below] {$\\lambda_{12}$} ++(1.5, 0);\n",
    "        \\draw[->] (2.south) -- node[midway, left] {$\\delta_2$} ++(0,-1);\n",
    "        \\draw[->] (1.south) -- node[midway, left] {$\\delta_1$} ++(0,-1);\n",
    "        \\draw[->] ++(2.25,0.25) -- node[midway, above] {$\\lambda_{21}$} ++(-1.5, 0) ;\n",
    "    \\end{tikzpicture}\n",
    "\\end{center}"
   ]
  },
  {
   "cell_type": "markdown",
   "id": "fddd0952",
   "metadata": {},
   "source": [
    "2 state model, with 2 giving birth to n 1, and 1 transitioning to 2"
   ]
  },
  {
   "cell_type": "code",
   "execution_count": null,
   "id": "e0fc8703",
   "metadata": {},
   "outputs": [],
   "source": [
    "import numpy as np\n",
    "import matplotlib.pyplot as plt\n",
    "from scipy.integrate import odeint\n",
    "import math"
   ]
  },
  {
   "cell_type": "code",
   "execution_count": null,
   "id": "920ceb42",
   "metadata": {},
   "outputs": [],
   "source": [
    "death1 = 0.0004\n",
    "comp = 0.0001\n",
    "death2 = 0.008\n",
    "lambda12 = 0.005\n",
    "lambda21 = 0.025\n",
    "n = 20\n",
    "\n",
    "equilibrium = (n * lambda21 * lambda12 / death2 - death1 - lambda12)/comp\n",
    "print(\"Equilibrium = \", equilibrium)\n",
    "\n",
    "Xinit = [equilibrium - 100, (lambda12/death2) * equilibrium - 100]\n",
    "X1 = [Xinit[0]]\n",
    "X2 = [Xinit[1]]"
   ]
  },
  {
   "cell_type": "markdown",
   "id": "de471430",
   "metadata": {},
   "source": [
    "## First case : only coeff and deterministic convergence"
   ]
  },
  {
   "cell_type": "markdown",
   "id": "6d613ad4",
   "metadata": {},
   "source": [
    "### Birth death process"
   ]
  },
  {
   "cell_type": "code",
   "execution_count": null,
   "id": "fe71b960",
   "metadata": {},
   "outputs": [],
   "source": [
    "# Define the birth-death process\n",
    "def bd(X1, X2, death1, comp, death2, lambda12, lambda21, n, Tmax):\n",
    "    t = [0]\n",
    "    x1 = X1[-1]\n",
    "    x2 = X2[-1]\n",
    "    while t[-1] < Tmax :\n",
    "        if x1 == 0 and x2 == 0:\n",
    "            print(\"only death remains\")\n",
    "            break\n",
    "        tot_rate = (death1 + lambda12 + comp*x1)*x1 + (death2 + lambda21)*x2\n",
    "        t.append( t[-1] + np.random.exponential(1 / tot_rate))\n",
    "        p = np.random.rand()\n",
    "        if p < ((death1 + comp*x1)*x1) / tot_rate:\n",
    "            x1 -= 1  # Death of 1\n",
    "        elif p < ((death1 + comp*x1 + lambda12)*x1) / tot_rate:\n",
    "            x1 -= 1 # Transi to 2\n",
    "            x2 += 1\n",
    "        elif p < ((death1 + comp*x1 + lambda12)*x1 + death2*x2 ) / tot_rate:\n",
    "            x2 -= 1 # Death of 2\n",
    "        else : \n",
    "            x1 += n # Birth of 1\n",
    "        X1.append(x1)\n",
    "        X2.append(x2)\n",
    "    return t, X1, X2"
   ]
  },
  {
   "cell_type": "code",
   "execution_count": null,
   "id": "b9072606",
   "metadata": {},
   "outputs": [],
   "source": [
    "# Run the simulation\n",
    "Tmax = 1000\n",
    "t, X1, X2 = bd(X1, X2, death1, comp, death2, lambda12, lambda21, n, Tmax)"
   ]
  },
  {
   "cell_type": "code",
   "execution_count": null,
   "id": "313a52d9",
   "metadata": {},
   "outputs": [],
   "source": [
    "# Plot the results\n",
    "plt.figure(figsize=(10, 5))\n",
    "plt.step(t, X1, where=\"post\", label='Population')\n",
    "plt.xlabel('Time')\n",
    "plt.ylabel('Population 1 Size')\n",
    "plt.title('Continuous-Time Birth-Death Process Simulation')\n",
    "plt.ylim(0, max(X1) + 500)\n",
    "plt.legend()\n",
    "plt.show()"
   ]
  },
  {
   "cell_type": "code",
   "execution_count": null,
   "id": "31e8d8e5",
   "metadata": {},
   "outputs": [],
   "source": [
    "# Plot the results\n",
    "plt.figure(figsize=(10, 5))\n",
    "plt.step(t, X2, where=\"post\", label='Population')\n",
    "plt.xlabel('Time')\n",
    "plt.ylabel('Population 2 Size')\n",
    "plt.title('Continuous-Time Birth-Death Process Simulation')\n",
    "plt.ylim(0, max(X2) + 500)\n",
    "plt.legend()\n",
    "plt.show()"
   ]
  },
  {
   "cell_type": "code",
   "execution_count": null,
   "id": "06e53ffa",
   "metadata": {},
   "outputs": [],
   "source": [
    "# Plot the SDE results\n",
    "plt.figure(figsize=(10, 5))\n",
    "plt.plot(t, [X1[i] + X2[i] for i in range(len(X1))], label='Population')\n",
    "plt.xlabel('Time')\n",
    "plt.ylabel('Total Population Size')\n",
    "plt.title('Continuous-Time Birth-Death Process Simulation' )\n",
    "plt.ylim(0, max([X1[i] + X2[i] for i in range(len(X1))]) + 500)\n",
    "plt.legend()\n",
    "plt.show()"
   ]
  },
  {
   "cell_type": "markdown",
   "id": "8d5dbe49",
   "metadata": {},
   "source": [
    "### Deterministic model"
   ]
  },
  {
   "cell_type": "code",
   "execution_count": null,
   "id": "9604f15c",
   "metadata": {},
   "outputs": [],
   "source": [
    "# Define the associated ODE system\n",
    "def ode(X, t, death1, comp, death2, lambda12, lambda21, n):\n",
    "    X1, X2 = X\n",
    "    dX1dt = n * lambda21 * X2 - (death1 + comp * X1 + lambda12) * X1\n",
    "    dX2dt = lambda12 * X1 - death2 * X2\n",
    "    return [dX1dt, dX2dt]\n",
    "\n",
    "# Define the time points for the ODE solution\n",
    "interval = np.linspace(0, Tmax, 60000)\n",
    "\n",
    "# Solve the ODE system\n",
    "def ode_sim(interval, X1, X2, death1, comp, death2, lambda12, lambda21, n):\n",
    "    X = odeint(ode, [X1, X2], interval, args=(death1, comp, death2, lambda12, lambda21, n))\n",
    "    return X[:, 0], X[:, 1]"
   ]
  },
  {
   "cell_type": "code",
   "execution_count": null,
   "id": "3746e557",
   "metadata": {},
   "outputs": [],
   "source": [
    "# Run the ODE simulation\n",
    "X1_ode, X2_ode = ode_sim(interval, Xinit[0], Xinit[1], death1, comp, death2, lambda12, lambda21, n)"
   ]
  },
  {
   "cell_type": "code",
   "execution_count": null,
   "id": "571a049d",
   "metadata": {},
   "outputs": [],
   "source": [
    "# Plot the ODE results\n",
    "plt.figure(figsize=(10, 5))\n",
    "plt.plot(interval, X1_ode, label='Population')\n",
    "plt.xlabel('Time')\n",
    "plt.ylabel('Population 1 Size')\n",
    "plt.title('Deterministic Simulation')\n",
    "plt.ylim(0, max(X1) + 500)\n",
    "plt.legend()\n",
    "plt.show()"
   ]
  },
  {
   "cell_type": "code",
   "execution_count": null,
   "id": "614ca836",
   "metadata": {},
   "outputs": [],
   "source": [
    "# Plot the ODE results\n",
    "plt.figure(figsize=(10, 5))\n",
    "plt.plot(interval, X2_ode, label='Population')\n",
    "plt.xlabel('Time')\n",
    "plt.ylabel('Population 2 Size')\n",
    "plt.title('Deterministic Simulation')\n",
    "plt.ylim(0, max(X2) + 500)\n",
    "plt.legend()\n",
    "plt.show()"
   ]
  },
  {
   "cell_type": "code",
   "execution_count": null,
   "id": "68fb5929",
   "metadata": {},
   "outputs": [],
   "source": [
    "# Plot the SDE results\n",
    "plt.figure(figsize=(10, 5))\n",
    "plt.plot(interval, [X1_ode[i] + X2_ode[i] for i in range(len(X1_ode))], label='Population')\n",
    "plt.xlabel('Time')\n",
    "plt.ylabel('Total Population Size')\n",
    "plt.title(' Deterministic Simulation')\n",
    "plt.ylim(0, max([X1[i] + X2[i] for i in range(len(X1))]) + 500)\n",
    "plt.legend()\n",
    "plt.show()"
   ]
  },
  {
   "cell_type": "markdown",
   "id": "ecaaf130",
   "metadata": {},
   "source": [
    "## Second case : slow-fast convergence"
   ]
  },
  {
   "cell_type": "markdown",
   "id": "addb320c",
   "metadata": {},
   "source": [
    "Using the generator of the new birth death process, the limit stochastic diffusion for the total population 1+2 is given by\n",
    "$$dS_t = \\frac{\\gamma_{12}(n\\lambda_{21}-\\delta_2) - \\gamma_2 \\delta_1}{\\gamma_{12}+\\gamma_2}S_t dt + \\sqrt{(n+1)n \\frac{\\gamma_{21}\\gamma_{12}}{\\gamma_{12} + \\gamma_2} S_t} dB_t$$"
   ]
  },
  {
   "cell_type": "code",
   "execution_count": null,
   "id": "fb7ae142",
   "metadata": {},
   "outputs": [],
   "source": [
    "gamma12 = 1000 * lambda12\n",
    "gamma1 = 1000 * (death1 + comp)\n",
    "gamma2 = 1000 * death2\n",
    "gamma21 =  (gamma1 + gamma12) * gamma2 /(n * gamma12)\n",
    "print(\"gamma21 = \", gamma21)\n",
    "\n",
    "if (gamma12/gamma2 != (gamma1 + gamma12)/(n*gamma21)):\n",
    "    print(\"The condition at the Kth order is not satisfied.\")\n",
    "    exit(1)"
   ]
  },
  {
   "cell_type": "code",
   "execution_count": null,
   "id": "969af168",
   "metadata": {},
   "outputs": [],
   "source": [
    "# Define the stochastic diffusion using Euler- scheme\n",
    "coeff_diff = n*(n+1)* gamma12 * gamma21 /(gamma12 + gamma2)\n",
    "coeff_drift = (gamma12 * (n * lambda21 - death2) - gamma2 * death1) / (gamma12 + gamma2)"
   ]
  },
  {
   "cell_type": "code",
   "execution_count": null,
   "id": "49e1ac10",
   "metadata": {},
   "outputs": [],
   "source": [
    "(gamma12 + gamma2)/(gamma2 )"
   ]
  },
  {
   "cell_type": "code",
   "execution_count": null,
   "id": "edf83a4a",
   "metadata": {},
   "outputs": [],
   "source": [
    "coeff_drift *( gamma12 + gamma2) ** 2 / (gamma2 * gamma2 * comp) "
   ]
  },
  {
   "cell_type": "code",
   "execution_count": null,
   "id": "7512eb09",
   "metadata": {},
   "outputs": [],
   "source": [
    "# Define the SDE function\n",
    "def sde(X, coeff_drift, coeff_diff, dt):\n",
    "    dX = (coeff_drift - (gamma2 * gamma2 * comp * X / (gamma2 + gamma12)**2)) * X * dt  +  np.sqrt(coeff_diff * X) * np.random.normal(0, dt)\n",
    "    return dX\n",
    "\n",
    "def sde_sim(X0, Tmax, dt, coeff_drift, coeff_diff):\n",
    "    t = np.arange(0, Tmax, dt)\n",
    "    X = np.zeros(len(t))\n",
    "    X[0] = X0\n",
    "    for i in range(1, len(t)):\n",
    "        X[i] = X[i-1] + sde(X[i-1], coeff_drift, coeff_diff, dt)\n",
    "    return t, X"
   ]
  },
  {
   "cell_type": "code",
   "execution_count": null,
   "id": "75eedc8c",
   "metadata": {},
   "outputs": [],
   "source": [
    "# Run the SDE simulation\n",
    "dt = 1000/60000\n",
    "X0 = Xinit[0] + Xinit[1]\n",
    "t, X_sde = sde_sim(X0, Tmax, dt, coeff_drift, coeff_diff)\n",
    "# Plot the SDE results"
   ]
  },
  {
   "cell_type": "code",
   "execution_count": null,
   "id": "64f99f1d",
   "metadata": {},
   "outputs": [],
   "source": [
    "X1_sde = gamma2 / (gamma2 + gamma12) * X_sde\n",
    "X2_sde = gamma12 / (gamma2 + gamma12) * X_sde"
   ]
  },
  {
   "cell_type": "code",
   "execution_count": null,
   "id": "09d90cb3",
   "metadata": {},
   "outputs": [],
   "source": [
    "# Plot X1_sde\n",
    "plt.figure(figsize=(10, 5))\n",
    "plt.plot(interval, X1_sde, label='Population')\n",
    "plt.ylim(0, max(X1) + 500)\n",
    "plt.xlabel('Time')\n",
    "plt.ylabel('Population 1 Size')\n",
    "plt.title('Stochastic Diffusion Simulation')\n",
    "plt.legend()\n",
    "plt.show()"
   ]
  },
  {
   "cell_type": "code",
   "execution_count": null,
   "id": "24d23895",
   "metadata": {},
   "outputs": [],
   "source": [
    "# Plot X2_sde\n",
    "plt.figure(figsize=(10, 5))\n",
    "plt.plot(interval, X2_sde, label='Population')\n",
    "plt.xlabel('Time')\n",
    "plt.ylabel('Population 2 Size')\n",
    "plt.title('Stochastic Diffusion Simulation')\n",
    "plt.ylim(0, max(X2) + 500)\n",
    "plt.legend()\n",
    "plt.show()"
   ]
  },
  {
   "cell_type": "code",
   "execution_count": null,
   "id": "f9477e39",
   "metadata": {},
   "outputs": [],
   "source": [
    "# Plot the SDE results\n",
    "plt.figure(figsize=(10, 5))\n",
    "plt.plot(interval, X_sde, label='Population')\n",
    "plt.xlabel('Time')\n",
    "plt.ylabel('Total Population Size')\n",
    "plt.title('Stochastic Diffusion Simulation')\n",
    "plt.ylim(0, max([X1[i] + X2[i] for i in range(len(X1))]) + 500)\n",
    "plt.legend()\n",
    "plt.show()"
   ]
  },
  {
   "cell_type": "markdown",
   "id": "e27daec9",
   "metadata": {},
   "source": [
    "## Slow-fast convergence using the direct method"
   ]
  },
  {
   "cell_type": "code",
   "execution_count": null,
   "id": "c9a71248",
   "metadata": {},
   "outputs": [],
   "source": [
    "# Define the stochastic diffusion using Euler- scheme\n",
    "coeff_diff11 = (gamma12 + gamma1) \n",
    "coeff_diff12 = n*n* gamma21\n",
    "coeff_drift11 = -lambda12 - death1\n",
    "coeff_drift12 = n * lambda21\n",
    "\n",
    "coeff_diff21 = gamma12\n",
    "coeff_diff22 = gamma2\n",
    "coeff_drift21 = lambda12\n",
    "coeff_drift22 = -death2\n",
    "\n",
    "coeff_diff121 = gamma12"
   ]
  },
  {
   "cell_type": "code",
   "execution_count": null,
   "id": "46e0e14d",
   "metadata": {},
   "outputs": [],
   "source": [
    "# Define the SDE function\n",
    "def sde(X, coeff_drift, coeff_diff, c, dt):\n",
    "    dB1 = np.random.normal(0, dt)\n",
    "    dB2 = np.random.normal(0, dt)\n",
    "    dZ1 = (coeff_drift11 * X[0] - c * X[0]**2 + coeff_drift12 * X[1]) * dt + np.sqrt(coeff_diff11 * X[0] + coeff_diff12 * X[1]) * dB1 - np.sqrt(coeff_diff121 * X[0]) * dB2\n",
    "    dZ2 = (coeff_drift21 * X[0] + coeff_drift22 * X[1]) * dt + np.sqrt(coeff_diff21 * X[0] + coeff_diff22 * X[1]) * dB2 - np.sqrt(coeff_diff12 * X[0]) * dB1\n",
    "    return dZ1, dZ2\n",
    "\n",
    "def sde_sim(X0, Tmax, dt, coeff_drift, coeff_diff, c):\n",
    "    t = np.arange(0, Tmax, dt)\n",
    "    X = np.zeros((len(t), 2))\n",
    "    X[0] = X0\n",
    "    for i in range(1, len(t)):\n",
    "        dZ1, dZ2 = sde(X[i-1], coeff_drift, coeff_diff, c, dt)\n",
    "        X[i] = X[i-1] + np.array([dZ1, dZ2])\n",
    "    return t, X[:, 0], X[:, 1]"
   ]
  },
  {
   "cell_type": "code",
   "execution_count": null,
   "id": "261b2f9f",
   "metadata": {},
   "outputs": [],
   "source": [
    "# Run the SDE simulation\n",
    "dt = 1000/60000\n",
    "t, X1_sde0, X2_sde0 = sde_sim(Xinit, Tmax, dt, coeff_drift, coeff_diff, comp)\n",
    "# Plot the SDE results"
   ]
  },
  {
   "cell_type": "code",
   "execution_count": null,
   "id": "eafa14d2",
   "metadata": {},
   "outputs": [],
   "source": [
    "# Plot X1_sde\n",
    "plt.figure(figsize=(10, 5))\n",
    "plt.plot(interval, X1_sde0, label='Population')\n",
    "#plt.ylim(0, max(X1) + 500)\n",
    "plt.xlabel('Time')\n",
    "plt.ylabel('Population 1 Size')\n",
    "plt.title('Stochastic Diffusion Simulation')\n",
    "plt.legend()\n",
    "plt.show()"
   ]
  },
  {
   "cell_type": "code",
   "execution_count": null,
   "id": "5b4e4bb9",
   "metadata": {},
   "outputs": [],
   "source": [
    "# Plot X2_sde\n",
    "plt.figure(figsize=(10, 5))\n",
    "plt.plot(interval, X2_sde0, label='Population')\n",
    "plt.xlabel('Time')\n",
    "plt.ylabel('Population 2 Size')\n",
    "plt.title('Stochastic Diffusion Simulation')\n",
    "plt.ylim(0, max(X2) + 500)\n",
    "plt.legend()\n",
    "plt.show()"
   ]
  },
  {
   "cell_type": "code",
   "execution_count": null,
   "id": "27726a9e",
   "metadata": {},
   "outputs": [],
   "source": [
    "# Plot the SDE results\n",
    "plt.figure(figsize=(10, 5))\n",
    "plt.plot(interval, X_sde0, label='Population')\n",
    "plt.xlabel('Time')\n",
    "plt.ylabel('Total Population Size')\n",
    "plt.title('Stochastic Diffusion Simulation')\n",
    "plt.ylim(0, max([X1[i] + X2[i] for i in range(len(X1))]) + 500)\n",
    "plt.legend()\n",
    "plt.show()"
   ]
  },
  {
   "cell_type": "markdown",
   "id": "1592fb21",
   "metadata": {},
   "source": [
    "## Comparaison ?"
   ]
  },
  {
   "cell_type": "code",
   "execution_count": null,
   "id": "4e26ea03",
   "metadata": {},
   "outputs": [],
   "source": [
    "# Plot the X1\n",
    "plt.figure(figsize=(10, 5))\n",
    "plt.plot(interval, X1_ode, label='ODE Population 1')\n",
    "plt.plot(interval, X1_sde, label='SDE Population 1')\n",
    "plt.plot(t, X1[:len(t)], alpha=0.5, label='Branching Process Population 1')\n",
    "plt.xlabel('Time')\n",
    "plt.ylabel('Population 1 Size')\n",
    "plt.title('Population 1 Size Comparison')\n",
    "plt.ylim(0, max(X1) + 500)\n",
    "plt.legend()\n",
    "plt.show()\n"
   ]
  },
  {
   "cell_type": "code",
   "execution_count": null,
   "id": "adc35d9a",
   "metadata": {},
   "outputs": [],
   "source": [
    "#Same for X2\n",
    "plt.figure(figsize=(10, 5))\n",
    "plt.plot(interval, X2_ode, label='ODE Population 2')\n",
    "plt.plot(interval, X2_sde, label='SDE Population 2')\n",
    "plt.plot(t, X2[:len(t)], alpha=0.5, label='Branching Process Population 2')\n",
    "plt.xlabel('Time')\n",
    "plt.ylabel('Population 2 Size')\n",
    "plt.title('Population 2 Size Comparison')\n",
    "plt.ylim(0, max(X2) + 500)\n",
    "plt.legend()\n",
    "plt.show()"
   ]
  },
  {
   "cell_type": "code",
   "execution_count": null,
   "id": "5f4ae8bf",
   "metadata": {},
   "outputs": [],
   "source": [
    "# Plot the total populations\n",
    "plt.figure(figsize=(10, 5))\n",
    "plt.plot(interval, [X1_ode[i] + X2_ode[i] for i in range(len(X1_ode))], label='ODE Total Population')\n",
    "plt.plot(interval, X_sde, label='SDE Total Population')\n",
    "plt.plot(t, [X1[i] + X2[i] for i in range(len(t))], alpha=0.5, label='Branching Process Total Population')\n",
    "plt.xlabel('Time')\n",
    "plt.ylabel('Total Population Size')\n",
    "plt.title('Total Population Size Comparison')\n",
    "plt.ylim(0, max([X1[i] + X2[i] for i in range(len(X1))]) + 500)\n",
    "plt.legend()\n",
    "plt.show()"
   ]
  },
  {
   "cell_type": "code",
   "execution_count": null,
   "id": "13e2ba9b",
   "metadata": {},
   "outputs": [],
   "source": []
  }
 ],
 "metadata": {
  "kernelspec": {
   "display_name": "base",
   "language": "python",
   "name": "python3"
  },
  "language_info": {
   "codemirror_mode": {
    "name": "ipython",
    "version": 3
   },
   "file_extension": ".py",
   "mimetype": "text/x-python",
   "name": "python",
   "nbconvert_exporter": "python",
   "pygments_lexer": "ipython3",
   "version": "3.9.20"
  }
 },
 "nbformat": 4,
 "nbformat_minor": 5
}
